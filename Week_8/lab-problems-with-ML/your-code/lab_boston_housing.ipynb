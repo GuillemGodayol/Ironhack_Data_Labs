{
 "cells": [
  {
   "cell_type": "markdown",
   "metadata": {},
   "source": [
    "# Understanding Over & Underfitting\n",
    "## Predicting Boston Housing Prices"
   ]
  },
  {
   "cell_type": "markdown",
   "metadata": {},
   "source": [
    "## Getting Started\n",
    "In this project, you will use the Boston Housing Prices dataset to build several models to predict the prices of homes with particular qualities from the suburbs of Boston, MA.\n",
    "We will build models with several different parameters, which will change the goodness of fit for each. "
   ]
  },
  {
   "cell_type": "markdown",
   "metadata": {},
   "source": [
    "---\n",
    "## Data Exploration\n",
    "Since we want to predict the value of houses, the **target variable**, `'MEDV'`, will be the variable we seek to predict."
   ]
  },
  {
   "cell_type": "markdown",
   "metadata": {},
   "source": [
    "### Import and explore the data. Clean the data for outliers and missing values. "
   ]
  },
  {
   "cell_type": "code",
   "execution_count": 25,
   "metadata": {},
   "outputs": [],
   "source": [
    "import pandas as pd\n",
    "import numpy as np"
   ]
  },
  {
   "cell_type": "code",
   "execution_count": 26,
   "metadata": {},
   "outputs": [],
   "source": [
    "boston = pd.read_csv('../data/boston_data.csv')"
   ]
  },
  {
   "cell_type": "code",
   "execution_count": 27,
   "metadata": {},
   "outputs": [
    {
     "data": {
      "text/plain": [
       "crim       float64\n",
       "zn         float64\n",
       "indus      float64\n",
       "chas       float64\n",
       "nox        float64\n",
       "rm         float64\n",
       "age        float64\n",
       "dis        float64\n",
       "rad        float64\n",
       "tax        float64\n",
       "ptratio    float64\n",
       "black      float64\n",
       "lstat      float64\n",
       "medv       float64\n",
       "dtype: object"
      ]
     },
     "execution_count": 27,
     "metadata": {},
     "output_type": "execute_result"
    }
   ],
   "source": [
    "boston.dtypes"
   ]
  },
  {
   "cell_type": "code",
   "execution_count": 28,
   "metadata": {
    "scrolled": true
   },
   "outputs": [
    {
     "data": {
      "text/html": [
       "<div>\n",
       "<style scoped>\n",
       "    .dataframe tbody tr th:only-of-type {\n",
       "        vertical-align: middle;\n",
       "    }\n",
       "\n",
       "    .dataframe tbody tr th {\n",
       "        vertical-align: top;\n",
       "    }\n",
       "\n",
       "    .dataframe thead th {\n",
       "        text-align: right;\n",
       "    }\n",
       "</style>\n",
       "<table border=\"1\" class=\"dataframe\">\n",
       "  <thead>\n",
       "    <tr style=\"text-align: right;\">\n",
       "      <th></th>\n",
       "      <th>crim</th>\n",
       "      <th>zn</th>\n",
       "      <th>indus</th>\n",
       "      <th>chas</th>\n",
       "      <th>nox</th>\n",
       "      <th>rm</th>\n",
       "      <th>age</th>\n",
       "      <th>dis</th>\n",
       "      <th>rad</th>\n",
       "      <th>tax</th>\n",
       "      <th>ptratio</th>\n",
       "      <th>black</th>\n",
       "      <th>lstat</th>\n",
       "      <th>medv</th>\n",
       "    </tr>\n",
       "  </thead>\n",
       "  <tbody>\n",
       "    <tr>\n",
       "      <th>count</th>\n",
       "      <td>404.000000</td>\n",
       "      <td>404.000000</td>\n",
       "      <td>404.000000</td>\n",
       "      <td>404.000000</td>\n",
       "      <td>404.000000</td>\n",
       "      <td>404.00000</td>\n",
       "      <td>404.000000</td>\n",
       "      <td>404.000000</td>\n",
       "      <td>404.000000</td>\n",
       "      <td>404.000000</td>\n",
       "      <td>404.000000</td>\n",
       "      <td>404.000000</td>\n",
       "      <td>404.000000</td>\n",
       "      <td>404.000000</td>\n",
       "    </tr>\n",
       "    <tr>\n",
       "      <th>mean</th>\n",
       "      <td>3.730912</td>\n",
       "      <td>10.509901</td>\n",
       "      <td>11.189901</td>\n",
       "      <td>0.069307</td>\n",
       "      <td>0.556710</td>\n",
       "      <td>6.30145</td>\n",
       "      <td>68.601733</td>\n",
       "      <td>3.799666</td>\n",
       "      <td>9.836634</td>\n",
       "      <td>411.688119</td>\n",
       "      <td>18.444554</td>\n",
       "      <td>355.068243</td>\n",
       "      <td>12.598936</td>\n",
       "      <td>22.312376</td>\n",
       "    </tr>\n",
       "    <tr>\n",
       "      <th>std</th>\n",
       "      <td>8.943922</td>\n",
       "      <td>22.053733</td>\n",
       "      <td>6.814909</td>\n",
       "      <td>0.254290</td>\n",
       "      <td>0.117321</td>\n",
       "      <td>0.67583</td>\n",
       "      <td>28.066143</td>\n",
       "      <td>2.109916</td>\n",
       "      <td>8.834741</td>\n",
       "      <td>171.073553</td>\n",
       "      <td>2.150295</td>\n",
       "      <td>94.489572</td>\n",
       "      <td>6.925173</td>\n",
       "      <td>8.837019</td>\n",
       "    </tr>\n",
       "    <tr>\n",
       "      <th>min</th>\n",
       "      <td>0.006320</td>\n",
       "      <td>0.000000</td>\n",
       "      <td>0.460000</td>\n",
       "      <td>0.000000</td>\n",
       "      <td>0.392000</td>\n",
       "      <td>3.56100</td>\n",
       "      <td>2.900000</td>\n",
       "      <td>1.169100</td>\n",
       "      <td>1.000000</td>\n",
       "      <td>187.000000</td>\n",
       "      <td>12.600000</td>\n",
       "      <td>0.320000</td>\n",
       "      <td>1.730000</td>\n",
       "      <td>5.000000</td>\n",
       "    </tr>\n",
       "    <tr>\n",
       "      <th>25%</th>\n",
       "      <td>0.082382</td>\n",
       "      <td>0.000000</td>\n",
       "      <td>5.190000</td>\n",
       "      <td>0.000000</td>\n",
       "      <td>0.453000</td>\n",
       "      <td>5.90275</td>\n",
       "      <td>45.800000</td>\n",
       "      <td>2.087875</td>\n",
       "      <td>4.000000</td>\n",
       "      <td>281.000000</td>\n",
       "      <td>17.375000</td>\n",
       "      <td>374.710000</td>\n",
       "      <td>7.135000</td>\n",
       "      <td>17.100000</td>\n",
       "    </tr>\n",
       "    <tr>\n",
       "      <th>50%</th>\n",
       "      <td>0.253715</td>\n",
       "      <td>0.000000</td>\n",
       "      <td>9.795000</td>\n",
       "      <td>0.000000</td>\n",
       "      <td>0.538000</td>\n",
       "      <td>6.23050</td>\n",
       "      <td>76.600000</td>\n",
       "      <td>3.207450</td>\n",
       "      <td>5.000000</td>\n",
       "      <td>330.000000</td>\n",
       "      <td>19.000000</td>\n",
       "      <td>391.065000</td>\n",
       "      <td>11.265000</td>\n",
       "      <td>21.400000</td>\n",
       "    </tr>\n",
       "    <tr>\n",
       "      <th>75%</th>\n",
       "      <td>4.053158</td>\n",
       "      <td>12.500000</td>\n",
       "      <td>18.100000</td>\n",
       "      <td>0.000000</td>\n",
       "      <td>0.631000</td>\n",
       "      <td>6.62925</td>\n",
       "      <td>94.150000</td>\n",
       "      <td>5.222125</td>\n",
       "      <td>24.000000</td>\n",
       "      <td>666.000000</td>\n",
       "      <td>20.200000</td>\n",
       "      <td>396.007500</td>\n",
       "      <td>16.910000</td>\n",
       "      <td>25.000000</td>\n",
       "    </tr>\n",
       "    <tr>\n",
       "      <th>max</th>\n",
       "      <td>88.976200</td>\n",
       "      <td>95.000000</td>\n",
       "      <td>27.740000</td>\n",
       "      <td>1.000000</td>\n",
       "      <td>0.871000</td>\n",
       "      <td>8.78000</td>\n",
       "      <td>100.000000</td>\n",
       "      <td>12.126500</td>\n",
       "      <td>24.000000</td>\n",
       "      <td>711.000000</td>\n",
       "      <td>22.000000</td>\n",
       "      <td>396.900000</td>\n",
       "      <td>34.370000</td>\n",
       "      <td>50.000000</td>\n",
       "    </tr>\n",
       "  </tbody>\n",
       "</table>\n",
       "</div>"
      ],
      "text/plain": [
       "             crim          zn       indus        chas         nox         rm  \\\n",
       "count  404.000000  404.000000  404.000000  404.000000  404.000000  404.00000   \n",
       "mean     3.730912   10.509901   11.189901    0.069307    0.556710    6.30145   \n",
       "std      8.943922   22.053733    6.814909    0.254290    0.117321    0.67583   \n",
       "min      0.006320    0.000000    0.460000    0.000000    0.392000    3.56100   \n",
       "25%      0.082382    0.000000    5.190000    0.000000    0.453000    5.90275   \n",
       "50%      0.253715    0.000000    9.795000    0.000000    0.538000    6.23050   \n",
       "75%      4.053158   12.500000   18.100000    0.000000    0.631000    6.62925   \n",
       "max     88.976200   95.000000   27.740000    1.000000    0.871000    8.78000   \n",
       "\n",
       "              age         dis         rad         tax     ptratio       black  \\\n",
       "count  404.000000  404.000000  404.000000  404.000000  404.000000  404.000000   \n",
       "mean    68.601733    3.799666    9.836634  411.688119   18.444554  355.068243   \n",
       "std     28.066143    2.109916    8.834741  171.073553    2.150295   94.489572   \n",
       "min      2.900000    1.169100    1.000000  187.000000   12.600000    0.320000   \n",
       "25%     45.800000    2.087875    4.000000  281.000000   17.375000  374.710000   \n",
       "50%     76.600000    3.207450    5.000000  330.000000   19.000000  391.065000   \n",
       "75%     94.150000    5.222125   24.000000  666.000000   20.200000  396.007500   \n",
       "max    100.000000   12.126500   24.000000  711.000000   22.000000  396.900000   \n",
       "\n",
       "            lstat        medv  \n",
       "count  404.000000  404.000000  \n",
       "mean    12.598936   22.312376  \n",
       "std      6.925173    8.837019  \n",
       "min      1.730000    5.000000  \n",
       "25%      7.135000   17.100000  \n",
       "50%     11.265000   21.400000  \n",
       "75%     16.910000   25.000000  \n",
       "max     34.370000   50.000000  "
      ]
     },
     "execution_count": 28,
     "metadata": {},
     "output_type": "execute_result"
    }
   ],
   "source": [
    "boston.describe()"
   ]
  },
  {
   "cell_type": "code",
   "execution_count": 29,
   "metadata": {},
   "outputs": [
    {
     "data": {
      "text/plain": [
       "0.0    376\n",
       "1.0     28\n",
       "Name: chas, dtype: int64"
      ]
     },
     "execution_count": 29,
     "metadata": {},
     "output_type": "execute_result"
    }
   ],
   "source": [
    "# it seems that 'chas' column is just 0 and 1s. Let's check it\n",
    "\n",
    "boston['chas'].value_counts()"
   ]
  },
  {
   "cell_type": "code",
   "execution_count": 30,
   "metadata": {
    "scrolled": true
   },
   "outputs": [
    {
     "data": {
      "text/plain": [
       "crim       0\n",
       "zn         0\n",
       "indus      0\n",
       "chas       0\n",
       "nox        0\n",
       "rm         0\n",
       "age        0\n",
       "dis        0\n",
       "rad        0\n",
       "tax        0\n",
       "ptratio    0\n",
       "black      0\n",
       "lstat      0\n",
       "medv       0\n",
       "dtype: int64"
      ]
     },
     "execution_count": 30,
     "metadata": {},
     "output_type": "execute_result"
    }
   ],
   "source": [
    "boston.isnull().sum()"
   ]
  },
  {
   "cell_type": "code",
   "execution_count": 31,
   "metadata": {
    "scrolled": false
   },
   "outputs": [
    {
     "data": {
      "text/plain": [
       "<matplotlib.axes._subplots.AxesSubplot at 0x11a0d3a10>"
      ]
     },
     "execution_count": 31,
     "metadata": {},
     "output_type": "execute_result"
    },
    {
     "data": {
      "image/png": "[encoded data removed]",
      "text/plain": [
       "<Figure size 432x288 with 1 Axes>"
      ]
     },
     "metadata": {
      "needs_background": "light"
     },
     "output_type": "display_data"
    }
   ],
   "source": [
    "boston.boxplot()"
   ]
  },
  {
   "cell_type": "code",
   "execution_count": 32,
   "metadata": {},
   "outputs": [],
   "source": [
    "# It seems there are many outliers. In order to drop them but keeping enough data, I\n",
    "# will remove those that are bigger than Q75 + 3*IQR and lower than Q25 - 3*IQR"
   ]
  },
  {
   "cell_type": "code",
   "execution_count": 33,
   "metadata": {},
   "outputs": [
    {
     "data": {
      "text/plain": [
       "<matplotlib.axes._subplots.AxesSubplot at 0x11a421090>"
      ]
     },
     "execution_count": 33,
     "metadata": {},
     "output_type": "execute_result"
    },
    {
     "data": {
      "image/png": "[encoded data removed]",
      "text/plain": [
       "<Figure size 432x288 with 1 Axes>"
      ]
     },
     "metadata": {
      "needs_background": "light"
     },
     "output_type": "display_data"
    }
   ],
   "source": [
    "# checking 'chas' column\n",
    "boston.boxplot(column = 'chas')"
   ]
  },
  {
   "cell_type": "code",
   "execution_count": 34,
   "metadata": {},
   "outputs": [],
   "source": [
    "# Defining a function to get the edge values for the outliers.\n",
    "\n",
    "def get_fences(x):\n",
    "    \"\"\" Passing a Series, gives back upper fence and lower fence, calculated\n",
    "    by percentile 75 + 3 * IQR and percentile 25 - 3 * IQR\n",
    "    \"\"\"\n",
    "    q1 = np.percentile(x, 25)\n",
    "    q3 = np.percentile(x, 75)\n",
    "    iqr = q3 - q1\n",
    "    upper_fence = q3 + 3 * iqr\n",
    "    lower_fence = q1 - 3 * iqr\n",
    "    \n",
    "    return upper_fence, lower_fence"
   ]
  },
  {
   "cell_type": "code",
   "execution_count": 36,
   "metadata": {},
   "outputs": [],
   "source": [
    "# applying the function to all the columns to drop the outliers, except 'chas' column\n",
    "# which is just 0 and 1\n",
    "\n",
    "boston_reduced = boston\n",
    "for column in boston.columns:\n",
    "    if column != 'chas':\n",
    "        uf_column, lf_column = get_fences(boston_reduced[column])\n",
    "        boston_reduced = boston_reduced.drop(boston_reduced.loc[boston_reduced[column]>uf_column].index)\n",
    "        boston_reduced = boston_reduced.drop(boston_reduced.loc[boston_reduced[column]<lf_column].index)\n",
    "    else:\n",
    "        pass"
   ]
  },
  {
   "cell_type": "code",
   "execution_count": 38,
   "metadata": {
    "scrolled": true
   },
   "outputs": [
    {
     "data": {
      "text/plain": [
       "<matplotlib.axes._subplots.AxesSubplot at 0x11a421dd0>"
      ]
     },
     "execution_count": 38,
     "metadata": {},
     "output_type": "execute_result"
    },
    {
     "data": {
      "image/png": "[encoded data removed]",
      "text/plain": [
       "<Figure size 432x288 with 1 Axes>"
      ]
     },
     "metadata": {
      "needs_background": "light"
     },
     "output_type": "display_data"
    }
   ],
   "source": [
    "# checking the new dataframe plots.\n",
    "boston_reduced.boxplot()"
   ]
  },
  {
   "cell_type": "code",
   "execution_count": 39,
   "metadata": {},
   "outputs": [],
   "source": [
    "# there are still some outliers, but not as many as before."
   ]
  },
  {
   "cell_type": "markdown",
   "metadata": {},
   "source": [
    "### Next, we want to explore the data. Pick several variables you think will be most correlated with the prices of homes in Boston, and create plots that show the data dispersion as well as the regression line of best fit."
   ]
  },
  {
   "cell_type": "code",
   "execution_count": 40,
   "metadata": {
    "scrolled": true
   },
   "outputs": [
    {
     "data": {
      "text/html": [
       "<div>\n",
       "<style scoped>\n",
       "    .dataframe tbody tr th:only-of-type {\n",
       "        vertical-align: middle;\n",
       "    }\n",
       "\n",
       "    .dataframe tbody tr th {\n",
       "        vertical-align: top;\n",
       "    }\n",
       "\n",
       "    .dataframe thead th {\n",
       "        text-align: right;\n",
       "    }\n",
       "</style>\n",
       "<table border=\"1\" class=\"dataframe\">\n",
       "  <thead>\n",
       "    <tr style=\"text-align: right;\">\n",
       "      <th></th>\n",
       "      <th>crim</th>\n",
       "      <th>zn</th>\n",
       "      <th>indus</th>\n",
       "      <th>chas</th>\n",
       "      <th>nox</th>\n",
       "      <th>rm</th>\n",
       "      <th>age</th>\n",
       "      <th>dis</th>\n",
       "      <th>rad</th>\n",
       "      <th>tax</th>\n",
       "      <th>ptratio</th>\n",
       "      <th>black</th>\n",
       "      <th>lstat</th>\n",
       "      <th>medv</th>\n",
       "    </tr>\n",
       "  </thead>\n",
       "  <tbody>\n",
       "    <tr>\n",
       "      <th>crim</th>\n",
       "      <td>1.000000</td>\n",
       "      <td>-0.244847</td>\n",
       "      <td>0.524088</td>\n",
       "      <td>-0.041324</td>\n",
       "      <td>0.585261</td>\n",
       "      <td>-0.141352</td>\n",
       "      <td>0.411350</td>\n",
       "      <td>-0.449759</td>\n",
       "      <td>0.858792</td>\n",
       "      <td>0.784430</td>\n",
       "      <td>0.327440</td>\n",
       "      <td>-0.199506</td>\n",
       "      <td>0.467740</td>\n",
       "      <td>-0.464949</td>\n",
       "    </tr>\n",
       "    <tr>\n",
       "      <th>zn</th>\n",
       "      <td>-0.244847</td>\n",
       "      <td>1.000000</td>\n",
       "      <td>-0.439960</td>\n",
       "      <td>-0.008276</td>\n",
       "      <td>-0.403214</td>\n",
       "      <td>0.332522</td>\n",
       "      <td>-0.388709</td>\n",
       "      <td>0.513852</td>\n",
       "      <td>-0.204382</td>\n",
       "      <td>-0.267627</td>\n",
       "      <td>-0.330288</td>\n",
       "      <td>0.145362</td>\n",
       "      <td>-0.337654</td>\n",
       "      <td>0.366928</td>\n",
       "    </tr>\n",
       "    <tr>\n",
       "      <th>indus</th>\n",
       "      <td>0.524088</td>\n",
       "      <td>-0.439960</td>\n",
       "      <td>1.000000</td>\n",
       "      <td>0.045352</td>\n",
       "      <td>0.695600</td>\n",
       "      <td>-0.363294</td>\n",
       "      <td>0.503518</td>\n",
       "      <td>-0.616429</td>\n",
       "      <td>0.511827</td>\n",
       "      <td>0.677605</td>\n",
       "      <td>0.282044</td>\n",
       "      <td>-0.380118</td>\n",
       "      <td>0.560642</td>\n",
       "      <td>-0.541918</td>\n",
       "    </tr>\n",
       "    <tr>\n",
       "      <th>chas</th>\n",
       "      <td>-0.041324</td>\n",
       "      <td>-0.008276</td>\n",
       "      <td>0.045352</td>\n",
       "      <td>1.000000</td>\n",
       "      <td>0.107138</td>\n",
       "      <td>0.002368</td>\n",
       "      <td>0.090643</td>\n",
       "      <td>-0.101841</td>\n",
       "      <td>-0.015174</td>\n",
       "      <td>-0.048785</td>\n",
       "      <td>-0.132135</td>\n",
       "      <td>-0.114611</td>\n",
       "      <td>0.047909</td>\n",
       "      <td>0.053961</td>\n",
       "    </tr>\n",
       "    <tr>\n",
       "      <th>nox</th>\n",
       "      <td>0.585261</td>\n",
       "      <td>-0.403214</td>\n",
       "      <td>0.695600</td>\n",
       "      <td>0.107138</td>\n",
       "      <td>1.000000</td>\n",
       "      <td>-0.264912</td>\n",
       "      <td>0.672084</td>\n",
       "      <td>-0.733464</td>\n",
       "      <td>0.550871</td>\n",
       "      <td>0.628324</td>\n",
       "      <td>0.052577</td>\n",
       "      <td>-0.363912</td>\n",
       "      <td>0.528525</td>\n",
       "      <td>-0.439272</td>\n",
       "    </tr>\n",
       "    <tr>\n",
       "      <th>rm</th>\n",
       "      <td>-0.141352</td>\n",
       "      <td>0.332522</td>\n",
       "      <td>-0.363294</td>\n",
       "      <td>0.002368</td>\n",
       "      <td>-0.264912</td>\n",
       "      <td>1.000000</td>\n",
       "      <td>-0.152538</td>\n",
       "      <td>0.175108</td>\n",
       "      <td>-0.072466</td>\n",
       "      <td>-0.187451</td>\n",
       "      <td>-0.176645</td>\n",
       "      <td>0.209903</td>\n",
       "      <td>-0.625474</td>\n",
       "      <td>0.735572</td>\n",
       "    </tr>\n",
       "    <tr>\n",
       "      <th>age</th>\n",
       "      <td>0.411350</td>\n",
       "      <td>-0.388709</td>\n",
       "      <td>0.503518</td>\n",
       "      <td>0.090643</td>\n",
       "      <td>0.672084</td>\n",
       "      <td>-0.152538</td>\n",
       "      <td>1.000000</td>\n",
       "      <td>-0.668262</td>\n",
       "      <td>0.338949</td>\n",
       "      <td>0.413064</td>\n",
       "      <td>0.114210</td>\n",
       "      <td>-0.209686</td>\n",
       "      <td>0.556127</td>\n",
       "      <td>-0.396617</td>\n",
       "    </tr>\n",
       "    <tr>\n",
       "      <th>dis</th>\n",
       "      <td>-0.449759</td>\n",
       "      <td>0.513852</td>\n",
       "      <td>-0.616429</td>\n",
       "      <td>-0.101841</td>\n",
       "      <td>-0.733464</td>\n",
       "      <td>0.175108</td>\n",
       "      <td>-0.668262</td>\n",
       "      <td>1.000000</td>\n",
       "      <td>-0.380029</td>\n",
       "      <td>-0.469239</td>\n",
       "      <td>-0.104390</td>\n",
       "      <td>0.255769</td>\n",
       "      <td>-0.433929</td>\n",
       "      <td>0.275328</td>\n",
       "    </tr>\n",
       "    <tr>\n",
       "      <th>rad</th>\n",
       "      <td>0.858792</td>\n",
       "      <td>-0.204382</td>\n",
       "      <td>0.511827</td>\n",
       "      <td>-0.015174</td>\n",
       "      <td>0.550871</td>\n",
       "      <td>-0.072466</td>\n",
       "      <td>0.338949</td>\n",
       "      <td>-0.380029</td>\n",
       "      <td>1.000000</td>\n",
       "      <td>0.883131</td>\n",
       "      <td>0.389622</td>\n",
       "      <td>-0.170610</td>\n",
       "      <td>0.351494</td>\n",
       "      <td>-0.365806</td>\n",
       "    </tr>\n",
       "    <tr>\n",
       "      <th>tax</th>\n",
       "      <td>0.784430</td>\n",
       "      <td>-0.267627</td>\n",
       "      <td>0.677605</td>\n",
       "      <td>-0.048785</td>\n",
       "      <td>0.628324</td>\n",
       "      <td>-0.187451</td>\n",
       "      <td>0.413064</td>\n",
       "      <td>-0.469239</td>\n",
       "      <td>0.883131</td>\n",
       "      <td>1.000000</td>\n",
       "      <td>0.388882</td>\n",
       "      <td>-0.274755</td>\n",
       "      <td>0.441354</td>\n",
       "      <td>-0.500801</td>\n",
       "    </tr>\n",
       "    <tr>\n",
       "      <th>ptratio</th>\n",
       "      <td>0.327440</td>\n",
       "      <td>-0.330288</td>\n",
       "      <td>0.282044</td>\n",
       "      <td>-0.132135</td>\n",
       "      <td>0.052577</td>\n",
       "      <td>-0.176645</td>\n",
       "      <td>0.114210</td>\n",
       "      <td>-0.104390</td>\n",
       "      <td>0.389622</td>\n",
       "      <td>0.388882</td>\n",
       "      <td>1.000000</td>\n",
       "      <td>0.062339</td>\n",
       "      <td>0.209159</td>\n",
       "      <td>-0.430235</td>\n",
       "    </tr>\n",
       "    <tr>\n",
       "      <th>black</th>\n",
       "      <td>-0.199506</td>\n",
       "      <td>0.145362</td>\n",
       "      <td>-0.380118</td>\n",
       "      <td>-0.114611</td>\n",
       "      <td>-0.363912</td>\n",
       "      <td>0.209903</td>\n",
       "      <td>-0.209686</td>\n",
       "      <td>0.255769</td>\n",
       "      <td>-0.170610</td>\n",
       "      <td>-0.274755</td>\n",
       "      <td>0.062339</td>\n",
       "      <td>1.000000</td>\n",
       "      <td>-0.274161</td>\n",
       "      <td>0.228276</td>\n",
       "    </tr>\n",
       "    <tr>\n",
       "      <th>lstat</th>\n",
       "      <td>0.467740</td>\n",
       "      <td>-0.337654</td>\n",
       "      <td>0.560642</td>\n",
       "      <td>0.047909</td>\n",
       "      <td>0.528525</td>\n",
       "      <td>-0.625474</td>\n",
       "      <td>0.556127</td>\n",
       "      <td>-0.433929</td>\n",
       "      <td>0.351494</td>\n",
       "      <td>0.441354</td>\n",
       "      <td>0.209159</td>\n",
       "      <td>-0.274161</td>\n",
       "      <td>1.000000</td>\n",
       "      <td>-0.727982</td>\n",
       "    </tr>\n",
       "    <tr>\n",
       "      <th>medv</th>\n",
       "      <td>-0.464949</td>\n",
       "      <td>0.366928</td>\n",
       "      <td>-0.541918</td>\n",
       "      <td>0.053961</td>\n",
       "      <td>-0.439272</td>\n",
       "      <td>0.735572</td>\n",
       "      <td>-0.396617</td>\n",
       "      <td>0.275328</td>\n",
       "      <td>-0.365806</td>\n",
       "      <td>-0.500801</td>\n",
       "      <td>-0.430235</td>\n",
       "      <td>0.228276</td>\n",
       "      <td>-0.727982</td>\n",
       "      <td>1.000000</td>\n",
       "    </tr>\n",
       "  </tbody>\n",
       "</table>\n",
       "</div>"
      ],
      "text/plain": [
       "             crim        zn     indus      chas       nox        rm       age  \\\n",
       "crim     1.000000 -0.244847  0.524088 -0.041324  0.585261 -0.141352  0.411350   \n",
       "zn      -0.244847  1.000000 -0.439960 -0.008276 -0.403214  0.332522 -0.388709   \n",
       "indus    0.524088 -0.439960  1.000000  0.045352  0.695600 -0.363294  0.503518   \n",
       "chas    -0.041324 -0.008276  0.045352  1.000000  0.107138  0.002368  0.090643   \n",
       "nox      0.585261 -0.403214  0.695600  0.107138  1.000000 -0.264912  0.672084   \n",
       "rm      -0.141352  0.332522 -0.363294  0.002368 -0.264912  1.000000 -0.152538   \n",
       "age      0.411350 -0.388709  0.503518  0.090643  0.672084 -0.152538  1.000000   \n",
       "dis     -0.449759  0.513852 -0.616429 -0.101841 -0.733464  0.175108 -0.668262   \n",
       "rad      0.858792 -0.204382  0.511827 -0.015174  0.550871 -0.072466  0.338949   \n",
       "tax      0.784430 -0.267627  0.677605 -0.048785  0.628324 -0.187451  0.413064   \n",
       "ptratio  0.327440 -0.330288  0.282044 -0.132135  0.052577 -0.176645  0.114210   \n",
       "black   -0.199506  0.145362 -0.380118 -0.114611 -0.363912  0.209903 -0.209686   \n",
       "lstat    0.467740 -0.337654  0.560642  0.047909  0.528525 -0.625474  0.556127   \n",
       "medv    -0.464949  0.366928 -0.541918  0.053961 -0.439272  0.735572 -0.396617   \n",
       "\n",
       "              dis       rad       tax   ptratio     black     lstat      medv  \n",
       "crim    -0.449759  0.858792  0.784430  0.327440 -0.199506  0.467740 -0.464949  \n",
       "zn       0.513852 -0.204382 -0.267627 -0.330288  0.145362 -0.337654  0.366928  \n",
       "indus   -0.616429  0.511827  0.677605  0.282044 -0.380118  0.560642 -0.541918  \n",
       "chas    -0.101841 -0.015174 -0.048785 -0.132135 -0.114611  0.047909  0.053961  \n",
       "nox     -0.733464  0.550871  0.628324  0.052577 -0.363912  0.528525 -0.439272  \n",
       "rm       0.175108 -0.072466 -0.187451 -0.176645  0.209903 -0.625474  0.735572  \n",
       "age     -0.668262  0.338949  0.413064  0.114210 -0.209686  0.556127 -0.396617  \n",
       "dis      1.000000 -0.380029 -0.469239 -0.104390  0.255769 -0.433929  0.275328  \n",
       "rad     -0.380029  1.000000  0.883131  0.389622 -0.170610  0.351494 -0.365806  \n",
       "tax     -0.469239  0.883131  1.000000  0.388882 -0.274755  0.441354 -0.500801  \n",
       "ptratio -0.104390  0.389622  0.388882  1.000000  0.062339  0.209159 -0.430235  \n",
       "black    0.255769 -0.170610 -0.274755  0.062339  1.000000 -0.274161  0.228276  \n",
       "lstat   -0.433929  0.351494  0.441354  0.209159 -0.274161  1.000000 -0.727982  \n",
       "medv     0.275328 -0.365806 -0.500801 -0.430235  0.228276 -0.727982  1.000000  "
      ]
     },
     "execution_count": 40,
     "metadata": {},
     "output_type": "execute_result"
    }
   ],
   "source": [
    "# I'll check the correlation table to find\n",
    "boston_reduced.corr()"
   ]
  },
  {
   "cell_type": "code",
   "execution_count": 44,
   "metadata": {},
   "outputs": [
    {
     "data": {
      "text/plain": [
       "<matplotlib.axes._subplots.AxesSubplot at 0x122cb7090>"
      ]
     },
     "execution_count": 44,
     "metadata": {},
     "output_type": "execute_result"
    },
    {
     "data": {
      "image/png": "[encoded data removed]",
      "text/plain": [
       "<Figure size 432x288 with 1 Axes>"
      ]
     },
     "metadata": {
      "needs_background": "light"
     },
     "output_type": "display_data"
    }
   ],
   "source": [
    "import seaborn as sns\n",
    "\n",
    "sns.regplot('rm', 'medv', boston_reduced)"
   ]
  },
  {
   "cell_type": "code",
   "execution_count": 46,
   "metadata": {},
   "outputs": [
    {
     "data": {
      "text/plain": [
       "<matplotlib.axes._subplots.AxesSubplot at 0x122fe3890>"
      ]
     },
     "execution_count": 46,
     "metadata": {},
     "output_type": "execute_result"
    },
    {
     "data": {
      "image/png": "[encoded data removed]",
      "text/plain": [
       "<Figure size 432x288 with 1 Axes>"
      ]
     },
     "metadata": {
      "needs_background": "light"
     },
     "output_type": "display_data"
    }
   ],
   "source": [
    "sns.regplot('lstat', 'medv', boston_reduced)"
   ]
  },
  {
   "cell_type": "markdown",
   "metadata": {},
   "source": [
    "### What do these plots tell you about the relationships between these variables and the prices of homes in Boston? Are these the relationships you expected to see in these variables?"
   ]
  },
  {
   "cell_type": "code",
   "execution_count": 47,
   "metadata": {},
   "outputs": [],
   "source": [
    "# These are the two most correlated variables to medv, the first one 'rm' with a positive\n",
    "# correlation: the higher the rm value, the higher the medv value.\n",
    "# And the second one 'lstat' with a negative correlation: the higher the lstat value, the\n",
    "# lower medv value\n",
    "# However, there are many values concentrated in a range and then we could say we still\n",
    "# have some outliers."
   ]
  },
  {
   "cell_type": "markdown",
   "metadata": {},
   "source": [
    "### Make a heatmap of the remaining variables. Are there any variables that you did not consider that have very high correlations? What are they?"
   ]
  },
  {
   "cell_type": "code",
   "execution_count": 49,
   "metadata": {},
   "outputs": [
    {
     "data": {
      "text/plain": [
       "<matplotlib.axes._subplots.AxesSubplot at 0x12322cb90>"
      ]
     },
     "execution_count": 49,
     "metadata": {},
     "output_type": "execute_result"
    },
    {
     "data": {
      "image/png": "[encoded data removed]",
      "text/plain": [
       "<Figure size 432x288 with 2 Axes>"
      ]
     },
     "metadata": {
      "needs_background": "light"
     },
     "output_type": "display_data"
    }
   ],
   "source": [
    "sns.heatmap(boston_reduced.corr())"
   ]
  },
  {
   "cell_type": "markdown",
   "metadata": {},
   "source": [
    "### Calculate Statistics\n",
    "Calculate descriptive statistics for housing price. Include the minimum, maximum, mean, median, and standard deviation. "
   ]
  },
  {
   "cell_type": "code",
   "execution_count": 60,
   "metadata": {},
   "outputs": [
    {
     "name": "stdout",
     "output_type": "stream",
     "text": [
      "Minimum price: 6.3\n",
      "Maximum price: 43.1\n",
      "Mean price: 22.200675675675676\n",
      "Median price: 21.7\n",
      "Standard Deviation on price: 6.428121444452232\n"
     ]
    }
   ],
   "source": [
    "print('Minimum price:', min(boston_reduced['medv']))\n",
    "print('Maximum price:', max(boston_reduced['medv']))\n",
    "print('Mean price:', boston_reduced['medv'].mean())\n",
    "print('Median price:', boston_reduced['medv'].median())\n",
    "print('Standard Deviation on price:', boston_reduced['medv'].std())"
   ]
  },
  {
   "cell_type": "markdown",
   "metadata": {},
   "source": [
    "----\n",
    "\n",
    "## Developing a Model"
   ]
  },
  {
   "cell_type": "markdown",
   "metadata": {},
   "source": [
    "### Implementation: Define a Performance Metric\n",
    "What is the performance meteric with which you will determine the performance of your model? Create a function that calculates this performance metric, and then returns the score. "
   ]
  },
  {
   "cell_type": "code",
   "execution_count": null,
   "metadata": {},
   "outputs": [],
   "source": [
    "from sklearn.metrics import r2_score\n",
    "\n",
    "def performance_metric(y_true, y_predict):\n",
    "    \"\"\" Calculates and returns the performance score between \n",
    "        true and predicted values based on the metric chosen. \"\"\"\n",
    "    # Your code here:\n",
    "    return r2_score(y_true, y_predict )"
   ]
  },
  {
   "cell_type": "markdown",
   "metadata": {},
   "source": [
    "### Implementation: Shuffle and Split Data\n",
    "Split the data into the testing and training datasets. Shuffle the data as well to remove any bias in selecting the traing and test. "
   ]
  },
  {
   "cell_type": "code",
   "execution_count": null,
   "metadata": {},
   "outputs": [],
   "source": [
    "# Your code here"
   ]
  },
  {
   "cell_type": "markdown",
   "metadata": {},
   "source": [
    "----\n",
    "\n",
    "## Analyzing Model Performance\n",
    "Next, we are going to build a Random Forest Regressor, and test its performance with several different parameter settings."
   ]
  },
  {
   "cell_type": "markdown",
   "metadata": {},
   "source": [
    "### Learning Curves\n",
    "Lets build the different models. Set the max_depth parameter to 2, 4, 6, 8, and 10 respectively. "
   ]
  },
  {
   "cell_type": "code",
   "execution_count": null,
   "metadata": {},
   "outputs": [],
   "source": [
    "# Five separate RFR here with the given max depths"
   ]
  },
  {
   "cell_type": "markdown",
   "metadata": {},
   "source": [
    "Now, plot the score for each tree on the training set and on the testing set."
   ]
  },
  {
   "cell_type": "code",
   "execution_count": null,
   "metadata": {
    "scrolled": false
   },
   "outputs": [],
   "source": [
    "# Produce a plot with the score for the testing and training for the different max depths"
   ]
  },
  {
   "cell_type": "markdown",
   "metadata": {},
   "source": [
    "What do these results tell you about the effect of the depth of the trees on the performance of the model?"
   ]
  },
  {
   "cell_type": "code",
   "execution_count": null,
   "metadata": {},
   "outputs": [],
   "source": [
    "# Your response here"
   ]
  },
  {
   "cell_type": "markdown",
   "metadata": {},
   "source": [
    "### Bias-Variance Tradeoff\n",
    "When the model is trained with a maximum depth of 1, does the model suffer from high bias or from high variance? How about when the model is trained with a maximum depth of 10?"
   ]
  },
  {
   "cell_type": "code",
   "execution_count": null,
   "metadata": {},
   "outputs": [],
   "source": [
    "# Your response here"
   ]
  },
  {
   "cell_type": "markdown",
   "metadata": {},
   "source": [
    "### Best-Guess Optimal Model\n",
    "What is the max_depth parameter that you think would optimize the model? Run your model and explain its performance."
   ]
  },
  {
   "cell_type": "code",
   "execution_count": null,
   "metadata": {},
   "outputs": [],
   "source": [
    "# Your response here"
   ]
  },
  {
   "cell_type": "markdown",
   "metadata": {},
   "source": [
    "### Applicability\n",
    "*In a few sentences, discuss whether the constructed model should or should not be used in a real-world setting.*  \n",
    "**Hint:** Some questions to answering:\n",
    "- *How relevant today is data that was collected from 1978?*\n",
    "- *Are the features present in the data sufficient to describe a home?*\n",
    "- *Is the model robust enough to make consistent predictions?*\n",
    "- *Would data collected in an urban city like Boston be applicable in a rural city?*"
   ]
  },
  {
   "cell_type": "code",
   "execution_count": null,
   "metadata": {},
   "outputs": [],
   "source": [
    "# Your response here"
   ]
  }
 ],
 "metadata": {
  "anaconda-cloud": {},
  "kernelspec": {
   "display_name": "Python 3",
   "language": "python",
   "name": "python3"
  },
  "language_info": {
   "codemirror_mode": {
    "name": "ipython",
    "version": 3
   },
   "file_extension": ".py",
   "mimetype": "text/x-python",
   "name": "python",
   "nbconvert_exporter": "python",
   "pygments_lexer": "ipython3",
   "version": "3.7.4"
  }
 },
 "nbformat": 4,
 "nbformat_minor": 1
}
