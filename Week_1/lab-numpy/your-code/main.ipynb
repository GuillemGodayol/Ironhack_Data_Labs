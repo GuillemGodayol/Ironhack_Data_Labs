{
 "cells": [
  {
   "cell_type": "markdown",
   "metadata": {},
   "source": [
    "# Intrduction to NumPy\n",
    "\n",
    "\n",
    "#### 1. Import NumPy under the name np."
   ]
  },
  {
   "cell_type": "code",
   "execution_count": 46,
   "metadata": {},
   "outputs": [],
   "source": [
    "# Numpy is a module from Python, we can import directly:\n",
    "\n",
    "import numpy as np"
   ]
  },
  {
   "cell_type": "markdown",
   "metadata": {},
   "source": [
    "#### 2. Print your NumPy version."
   ]
  },
  {
   "cell_type": "code",
   "execution_count": 47,
   "metadata": {},
   "outputs": [
    {
     "name": "stdout",
     "output_type": "stream",
     "text": "1.17.3\n"
    }
   ],
   "source": [
    "# If we want to know the version, we need to use np.version.version\n",
    "\n",
    "print(np.version.version)"
   ]
  },
  {
   "cell_type": "markdown",
   "metadata": {},
   "source": [
    "#### 3. Generate a 2x3x5 3-dimensional array with random values. Assign the array to variable *a*.\n",
    "**Challenge**: there are at least three easy ways that use numpy to generate random arrays. How many ways can you find?"
   ]
  },
  {
   "cell_type": "code",
   "execution_count": 48,
   "metadata": {},
   "outputs": [
    {
     "data": {
      "text/plain": "(2, 3, 5)"
     },
     "execution_count": 48,
     "metadata": {},
     "output_type": "execute_result"
    }
   ],
   "source": [
    "# Method 1: np.array and add all elements, with random module.\n",
    "import random\n",
    "a = np.array([[[random.randint(0,10), random.randint(0,10), random.randint(0,10), random.randint(0,10), random.randint(0,10)],[random.randint(0,10), random.randint(0,10), random.randint(0,10), random.randint(0,10), random.randint(0,10)],[random.randint(0,10), random.randint(0,10), random.randint(0,10), random.randint(0,10), random.randint(0,10)]],[[random.randint(0,10), random.randint(0,10), random.randint(0,10), random.randint(0,10), random.randint(0,10)],[random.randint(0,10), random.randint(0,10), random.randint(0,10), random.randint(0,10), random.randint(0,10)],[random.randint(0,10), random.randint(0,10), random.randint(0,10), random.randint(0,10), random.randint(0,10)]]])\n",
    "\n",
    "a.shape"
   ]
  },
  {
   "cell_type": "code",
   "execution_count": 28,
   "metadata": {},
   "outputs": [
    {
     "data": {
      "text/plain": "(2, 3, 5)"
     },
     "execution_count": 28,
     "metadata": {},
     "output_type": "execute_result"
    }
   ],
   "source": [
    "# Method 2: using np.random.randint\n",
    "a2 = np.random.randint(10, size=(2, 3, 5))\n",
    "\n",
    "a2.shape"
   ]
  },
  {
   "cell_type": "code",
   "execution_count": 49,
   "metadata": {},
   "outputs": [
    {
     "data": {
      "text/plain": "(2, 3, 5)"
     },
     "execution_count": 49,
     "metadata": {},
     "output_type": "execute_result"
    }
   ],
   "source": [
    "# Method 3: We can use the module full_like to copy the shape of an existing array. In this way, we pick the array a2 and create one equal shape, but with all elements as a random number. That means we won't have all random numbers, but one random number in all positions.\n",
    "\n",
    "a3 = np.full_like(a2, random.randint(0,10))\n",
    "a3.shape"
   ]
  },
  {
   "cell_type": "markdown",
   "metadata": {},
   "source": [
    "#### 4. Print *a*.\n"
   ]
  },
  {
   "cell_type": "code",
   "execution_count": 50,
   "metadata": {},
   "outputs": [
    {
     "name": "stdout",
     "output_type": "stream",
     "text": "[[[ 2  2  5  7  3]\n  [ 5  1  3 10  5]\n  [ 5  9  8  4  1]]\n\n [[ 8  4  0  6  3]\n  [ 7  7  3  2  3]\n  [ 1  1  9  7  9]]]\n[[[0 9 2 7 6]\n  [0 9 2 2 7]\n  [1 1 5 3 8]]\n\n [[7 2 3 2 8]\n  [7 0 8 9 7]\n  [7 3 0 0 5]]]\n[[[6 6 6 6 6]\n  [6 6 6 6 6]\n  [6 6 6 6 6]]\n\n [[6 6 6 6 6]\n  [6 6 6 6 6]\n  [6 6 6 6 6]]]\n"
    }
   ],
   "source": [
    "# your code here\n",
    "print(a)\n",
    "print(a2)\n",
    "print(a3)"
   ]
  },
  {
   "cell_type": "markdown",
   "metadata": {},
   "source": [
    "#### 5. Create a 5x2x3 3-dimensional array with all values equaling 1. Assign the array to variable *b*."
   ]
  },
  {
   "cell_type": "code",
   "execution_count": 51,
   "metadata": {},
   "outputs": [
    {
     "data": {
      "text/plain": "(5, 3, 2)"
     },
     "execution_count": 51,
     "metadata": {},
     "output_type": "execute_result"
    }
   ],
   "source": [
    "# Following the case on a3, we make a full_like array as 'a', but we set all values to 1 and after that, the T is transposing our array. From shape [2,3,5] to shape [5,3,2]\n",
    "\n",
    "b = np.full_like(a, 1).T\n",
    "b.shape"
   ]
  },
  {
   "cell_type": "markdown",
   "metadata": {},
   "source": [
    "#### 6. Print *b*.\n"
   ]
  },
  {
   "cell_type": "code",
   "execution_count": 52,
   "metadata": {},
   "outputs": [
    {
     "name": "stdout",
     "output_type": "stream",
     "text": "[[[1 1]\n  [1 1]\n  [1 1]]\n\n [[1 1]\n  [1 1]\n  [1 1]]\n\n [[1 1]\n  [1 1]\n  [1 1]]\n\n [[1 1]\n  [1 1]\n  [1 1]]\n\n [[1 1]\n  [1 1]\n  [1 1]]]\n"
    }
   ],
   "source": [
    "# your code here\n",
    "print(b)"
   ]
  },
  {
   "cell_type": "markdown",
   "metadata": {},
   "source": [
    "#### 7. Do *a* and *b* have the same size? How do you prove that in Python code?"
   ]
  },
  {
   "cell_type": "code",
   "execution_count": 53,
   "metadata": {},
   "outputs": [
    {
     "data": {
      "text/plain": "True"
     },
     "execution_count": 53,
     "metadata": {},
     "output_type": "execute_result"
    }
   ],
   "source": [
    "# Both arrays have the same size. We can compare them:\n",
    "\n",
    "a.size == b.size"
   ]
  },
  {
   "cell_type": "markdown",
   "metadata": {},
   "source": [
    "#### 8. Are you able to add *a* and *b*? Why or why not?\n"
   ]
  },
  {
   "cell_type": "code",
   "execution_count": 57,
   "metadata": {},
   "outputs": [],
   "source": [
    "# Both arrays have the same size, but they can't be added because of the different shapes.\n",
    "# if we try 'c = a + b', it returns a ValueError: operands could not be broadcast together with shapes (2,3,5) (5,3,2)"
   ]
  },
  {
   "cell_type": "markdown",
   "metadata": {},
   "source": [
    "#### 9. Transpose *b* so that it has the same structure of *a* (i.e. become a 2x3x5 array). Assign the transposed array to variable *c*."
   ]
  },
  {
   "cell_type": "code",
   "execution_count": 54,
   "metadata": {},
   "outputs": [],
   "source": [
    "# your code here\n",
    "c = b.T"
   ]
  },
  {
   "cell_type": "markdown",
   "metadata": {},
   "source": [
    "#### 10. Try to add *a* and *c*. Now it should work. Assign the sum to variable *d*. But why does it work now?"
   ]
  },
  {
   "cell_type": "code",
   "execution_count": 55,
   "metadata": {},
   "outputs": [],
   "source": [
    "# As now both arrays have the same shape, they can be added. Same shape means same values for each dimension, so we can add individually all the elements of each dimension.\n",
    "\n",
    "d = a + c"
   ]
  },
  {
   "cell_type": "markdown",
   "metadata": {},
   "source": [
    "#### 11. Print *a* and *d*. Notice the difference and relation of the two array in terms of the values? Explain."
   ]
  },
  {
   "cell_type": "code",
   "execution_count": 56,
   "metadata": {},
   "outputs": [
    {
     "name": "stdout",
     "output_type": "stream",
     "text": "[[[ 2  2  5  7  3]\n  [ 5  1  3 10  5]\n  [ 5  9  8  4  1]]\n\n [[ 8  4  0  6  3]\n  [ 7  7  3  2  3]\n  [ 1  1  9  7  9]]]\n[[[ 3  3  6  8  4]\n  [ 6  2  4 11  6]\n  [ 6 10  9  5  2]]\n\n [[ 9  5  1  7  4]\n  [ 8  8  4  3  4]\n  [ 2  2 10  8 10]]]\n"
    }
   ],
   "source": [
    "# As the array 'b' was built with all its elements equal to 1, all the elements from 'd' are elements from 'a' + 1\n",
    "print(a)\n",
    "print(d)"
   ]
  },
  {
   "cell_type": "markdown",
   "metadata": {},
   "source": [
    "#### 12. Multiply *a* and *c*. Assign the result to *e*."
   ]
  },
  {
   "cell_type": "code",
   "execution_count": 58,
   "metadata": {},
   "outputs": [
    {
     "name": "stdout",
     "output_type": "stream",
     "text": "[[[ 2  2  5  7  3]\n  [ 5  1  3 10  5]\n  [ 5  9  8  4  1]]\n\n [[ 8  4  0  6  3]\n  [ 7  7  3  2  3]\n  [ 1  1  9  7  9]]]\n"
    }
   ],
   "source": [
    "# your code here\n",
    "\n",
    "e = a * c\n",
    "print(e)"
   ]
  },
  {
   "cell_type": "markdown",
   "metadata": {},
   "source": [
    "#### 13. Does *e* equal to *a*? Why or why not?\n"
   ]
  },
  {
   "cell_type": "code",
   "execution_count": 0,
   "metadata": {},
   "outputs": [],
   "source": [
    "# If we want to mulitply arrays we need to use the module .dot . Array multiplication is not matrix multiplication."
   ]
  },
  {
   "cell_type": "markdown",
   "metadata": {},
   "source": [
    "#### 14. Identify the max, min, and mean values in *d*. Assign those values to variables *d_max*, *d_min* and *d_mean*."
   ]
  },
  {
   "cell_type": "code",
   "execution_count": 59,
   "metadata": {},
   "outputs": [],
   "source": [
    "# There are specific methods in Numpy to find max, min and mean of an array:\n",
    "\n",
    "d_max = np.amax(d)\n",
    "d_min = np.amin(d)\n",
    "d_mean = np.mean(d)\n",
    " "
   ]
  },
  {
   "cell_type": "markdown",
   "metadata": {},
   "source": [
    "#### 15. Now we want to label the values in *d*. First create an empty array *f* with the same shape (i.e. 2x3x5) as *d* using `np.empty`.\n"
   ]
  },
  {
   "cell_type": "code",
   "execution_count": 61,
   "metadata": {},
   "outputs": [],
   "source": [
    "# your code here\n",
    "\n",
    "f = np.empty([2, 3, 5], dtype = float)\n"
   ]
  },
  {
   "cell_type": "markdown",
   "metadata": {},
   "source": [
    "#### 16. Populate the values in *f*. \n",
    "\n",
    "For each value in *d*, if it's larger than *d_min* but smaller than *d_mean*, assign 25 to the corresponding value in *f*. If a value in *d* is larger than *d_mean* but smaller than *d_max*, assign 75 to the corresponding value in *f*. If a value equals to *d_mean*, assign 50 to the corresponding value in *f*. Assign 0 to the corresponding value(s) in *f* for *d_min* in *d*. Assign 100 to the corresponding value(s) in *f* for *d_max* in *d*. In the end, f should have only the following values: 0, 25, 50, 75, and 100.\n",
    "\n",
    "**Note**: you don't have to use Numpy in this question."
   ]
  },
  {
   "cell_type": "code",
   "execution_count": 62,
   "metadata": {},
   "outputs": [],
   "source": [
    "# your code here\n",
    "for a in range(2):\n",
    "    for b in range(3):\n",
    "        for c in range(5):\n",
    "            if d[a, b, c] > d_min and d[a, b, c] < d_mean:\n",
    "                f[a, b, c] = 25\n",
    "            elif d[a, b, c] < d_max and d[a, b, c] > d_mean:\n",
    "                f[a, b, c] = 75\n",
    "            elif d[a, b, c] == d_mean:\n",
    "                f[a, b, c] = 50\n",
    "            elif d[a, b, c] == d_min:\n",
    "                f[a, b, c] = 0\n",
    "            elif d[a, b, c] == d_max:\n",
    "                f[a, b, c] = 100"
   ]
  },
  {
   "cell_type": "markdown",
   "metadata": {},
   "source": [
    "#### 17. Print *d* and *f*. Do you have your expected *f*?\n",
    "For instance, if your *d* is:\n",
    "```python\n",
    "[[[1.85836099, 1.67064465, 1.62576044, 1.40243961, 1.88454931],\n",
    "[1.75354326, 1.69403643, 1.36729252, 1.61415071, 1.12104981],\n",
    "[1.72201435, 1.1862918 , 1.87078449, 1.7726778 , 1.88180042]],\n",
    "[[1.44747908, 1.31673383, 1.02000951, 1.52218947, 1.97066381],\n",
    "[1.79129243, 1.74983003, 1.96028037, 1.85166831, 1.65450881],\n",
    "[1.18068344, 1.9587381 , 1.00656599, 1.93402165, 1.73514584]]]\n",
    "```\n",
    "Your *f* should be:\n",
    "```python\n",
    "[[[ 75.,  75.,  75.,  25.,  75.],\n",
    "[ 75.,  75.,  25.,  25.,  25.],\n",
    "[ 75.,  25.,  75.,  75.,  75.]],\n",
    "[[ 25.,  25.,  25.,  25., 100.],\n",
    "[ 75.,  75.,  75.,  75.,  75.],\n",
    "[ 25.,  75.,   0.,  75.,  75.]]]\n",
    "```"
   ]
  },
  {
   "cell_type": "code",
   "execution_count": 63,
   "metadata": {},
   "outputs": [
    {
     "name": "stdout",
     "output_type": "stream",
     "text": "[[[ 3  3  6  8  4]\n  [ 6  2  4 11  6]\n  [ 6 10  9  5  2]]\n\n [[ 9  5  1  7  4]\n  [ 8  8  4  3  4]\n  [ 2  2 10  8 10]]]\n[[[ 25.  25.  75.  75.  25.]\n  [ 75.  25.  25. 100.  75.]\n  [ 75.  75.  75.  25.  25.]]\n\n [[ 75.  25.   0.  75.  25.]\n  [ 75.  75.  25.  25.  25.]\n  [ 25.  25.  75.  75.  75.]]]\n"
    }
   ],
   "source": [
    "# your code here\n",
    "print(d)\n",
    "print(f)"
   ]
  },
  {
   "cell_type": "markdown",
   "metadata": {},
   "source": [
    "#### 18. Bonus question: instead of using numbers (i.e. 0, 25, 50, 75, and 100), use string values  (\"A\", \"B\", \"C\", \"D\", and \"E\") to label the array elements. For the example above, the expected result is:\n",
    "\n",
    "```python\n",
    "[[[ 'D',  'D',  'D',  'B',  'D'],\n",
    "[ 'D',  'D',  'B',  'B',  'B'],\n",
    "[ 'D',  'B',  'D',  'D',  'D']],\n",
    "[[ 'B',  'B',  'B',  'B',  'E'],\n",
    "[ 'D',  'D',  'D',  'D',  'D'],\n",
    "[ 'B',  'D',   'A',  'D', 'D']]]\n",
    "```\n",
    "**Note**: you don't have to use Numpy in this question."
   ]
  },
  {
   "cell_type": "code",
   "execution_count": 65,
   "metadata": {},
   "outputs": [],
   "source": [
    "# your code here\n",
    "f = f.astype(str)\n",
    "for a in range(2):\n",
    "    for b in range(3):\n",
    "        for c in range(5):\n",
    "            if d[a, b, c] > d_min and d[a, b, c] < d_mean:\n",
    "                f[a, b, c] = 'B'\n",
    "            elif d[a, b, c] < d_max and d[a, b, c] > d_mean:\n",
    "                f[a, b, c] = 'D'\n",
    "            elif d[a, b, c] == d_mean:\n",
    "                f[a, b, c] = 'C'\n",
    "            elif d[a, b, c] == d_min:\n",
    "                f[a, b, c] = 'A'\n",
    "            elif d[a, b, c] == d_max:\n",
    "                f[a, b, c] = 'E'"
   ]
  },
  {
   "cell_type": "code",
   "execution_count": 66,
   "metadata": {},
   "outputs": [
    {
     "name": "stdout",
     "output_type": "stream",
     "text": "[[['B' 'B' 'D' 'D' 'B']\n  ['D' 'B' 'B' 'E' 'D']\n  ['D' 'D' 'D' 'B' 'B']]\n\n [['D' 'B' 'A' 'D' 'B']\n  ['D' 'D' 'B' 'B' 'B']\n  ['B' 'B' 'D' 'D' 'D']]]\n"
    }
   ],
   "source": [
    "print(f)"
   ]
  },
  {
   "cell_type": "code",
   "execution_count": null,
   "metadata": {},
   "outputs": [],
   "source": []
  }
 ],
 "metadata": {
  "kernelspec": {
   "display_name": "Python 3",
   "language": "python",
   "name": "python3"
  },
  "language_info": {
   "codemirror_mode": {
    "name": "ipython",
    "version": 3
   },
   "file_extension": ".py",
   "mimetype": "text/x-python",
   "name": "python",
   "nbconvert_exporter": "python",
   "pygments_lexer": "ipython3",
   "version": "3.7.2"
  }
 },
 "nbformat": 4,
 "nbformat_minor": 2
}