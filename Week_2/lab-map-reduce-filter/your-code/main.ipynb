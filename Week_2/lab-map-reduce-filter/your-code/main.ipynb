{
 "cells": [
  {
   "cell_type": "markdown",
   "metadata": {},
   "source": [
    "# Before your start:\n",
    "- Read the README.md file\n",
    "- Comment as much as you can and use the resources in the README.md file\n",
    "- Happy learning!"
   ]
  },
  {
   "cell_type": "code",
   "execution_count": 128,
   "metadata": {},
   "outputs": [],
   "source": [
    "# Import reduce from functools, numpy and pandas\n",
    "from functools import reduce\n",
    "import numpy as np\n",
    "import pandas as pd\n",
    "import re"
   ]
  },
  {
   "cell_type": "markdown",
   "metadata": {},
   "source": [
    "# Challenge 1 - Mapping\n",
    "\n",
    "#### We will use the map function to clean up words in a book.\n",
    "\n",
    "In the following cell, we will read a text file containing the book The Prophet by Khalil Gibran."
   ]
  },
  {
   "cell_type": "code",
   "execution_count": 129,
   "metadata": {},
   "outputs": [
    {
     "name": "stdout",
     "output_type": "stream",
     "text": "13637\n"
    }
   ],
   "source": [
    "# Run this code:\n",
    "\n",
    "location = './data/58585-0.txt'\n",
    "with open(location, 'r', encoding=\"utf8\") as f:\n",
    "    prophet = f.read().split(' ')\n",
    "    \n",
    "print(len(prophet))"
   ]
  },
  {
   "cell_type": "markdown",
   "metadata": {},
   "source": [
    "#### Let's remove the first 568 words since they contain information about the book but are not part of the book itself. \n",
    "\n",
    "Do this by removing from `prophet` elements 0 through 567 of the list (you can also do this by keeping elements 568 through the last element)."
   ]
  },
  {
   "cell_type": "code",
   "execution_count": 130,
   "metadata": {},
   "outputs": [
    {
     "name": "stdout",
     "output_type": "stream",
     "text": "13070\n"
    }
   ],
   "source": [
    "# your code here\n",
    "\n",
    "for i in range(567):\n",
    "    prophet.pop(0)\n",
    "\n",
    "print(len(prophet))"
   ]
  },
  {
   "cell_type": "markdown",
   "metadata": {},
   "source": [
    "If you look through the words, you will find that many words have a reference attached to them. For example, let's look at words 1 through 10."
   ]
  },
  {
   "cell_type": "code",
   "execution_count": 131,
   "metadata": {},
   "outputs": [
    {
     "name": "stdout",
     "output_type": "stream",
     "text": "['Farewell................92\\n\\n\\n\\n\\nTHE', 'PROPHET\\n\\n|Almustafa,', 'the{7}', 'chosen', 'and', 'the\\nbeloved,', 'who', 'was', 'a', 'dawn']\n"
    }
   ],
   "source": [
    "# your code here\n",
    "print(prophet[0:10])"
   ]
  },
  {
   "cell_type": "markdown",
   "metadata": {},
   "source": [
    "#### The next step is to create a function that will remove references. \n",
    "\n",
    "We will do this by splitting the string on the `{` character and keeping only the part before this character. Write your function below."
   ]
  },
  {
   "cell_type": "code",
   "execution_count": 132,
   "metadata": {},
   "outputs": [],
   "source": [
    "def reference(x):\n",
    "    '''\n",
    "    Input: A string\n",
    "    Output: The string with references removed\n",
    "    \n",
    "    Example:\n",
    "    Input: 'the{7}'\n",
    "    Output: 'the'\n",
    "    '''\n",
    "    \n",
    "    return x.split('{')[0]\n",
    "    \n",
    "\n",
    "    # as the entry for the function is a string, we can split for the {. The function will return a list of 2 lists, with element 0 the part of the string before the split, and the element 2 the part of the string after the split. As this second one is not usefull for us, we just select element 0."
   ]
  },
  {
   "cell_type": "markdown",
   "metadata": {},
   "source": [
    "Now that we have our function, use the `map()` function to apply this function to our book, The Prophet. Return the resulting list to a new list called `prophet_reference`."
   ]
  },
  {
   "cell_type": "code",
   "execution_count": 133,
   "metadata": {},
   "outputs": [
    {
     "name": "stdout",
     "output_type": "stream",
     "text": "['Farewell................92\\n\\n\\n\\n\\nTHE', 'PROPHET\\n\\n|Almustafa,', 'the', 'chosen', 'and', 'the\\nbeloved,', 'who', 'was', 'a', 'dawn']\n"
    }
   ],
   "source": [
    "# We pass through the map function and our list of strings (prophet) to apply the funtion to all elements. As this function returns an object but we want a list, we convert it using list()\n",
    "prophet_reference = list(map(reference, prophet))\n",
    "print(prophet_reference[0:10])"
   ]
  },
  {
   "cell_type": "markdown",
   "metadata": {},
   "source": [
    "Another thing you may have noticed is that some words contain a line break. Let's write a function to split those words. Our function will return the string split on the character `\\n`. Write your function in the cell below."
   ]
  },
  {
   "cell_type": "code",
   "execution_count": 134,
   "metadata": {},
   "outputs": [],
   "source": [
    "def line_break(x):\n",
    "    '''\n",
    "    Input: A string\n",
    "    Output: A list of strings split on the line break (\\n) character\n",
    "        \n",
    "    Example:\n",
    "    Input: 'the\\nbeloved'\n",
    "    Output: ['the', 'beloved']\n",
    "    '''\n",
    "    return x.split('\\n')\n",
    "    \n",
    "    # This is the same case as above, but now we want both sides of splitted elements"
   ]
  },
  {
   "cell_type": "markdown",
   "metadata": {},
   "source": [
    "Apply the `line_break` function to the `prophet_reference` list. Name the new list `prophet_line`."
   ]
  },
  {
   "cell_type": "code",
   "execution_count": 135,
   "metadata": {},
   "outputs": [
    {
     "name": "stdout",
     "output_type": "stream",
     "text": "[['Farewell................92', '', '', '', '', 'THE'], ['PROPHET', '', '|Almustafa,'], ['the'], ['chosen'], ['and'], ['the', 'beloved,'], ['who'], ['was'], ['a'], ['dawn']]\n"
    }
   ],
   "source": [
    "# We do again the same operation as before, getting a list.  \n",
    "prophet_line = list(map(line_break, prophet_reference))\n",
    "print(prophet_line[0:10])"
   ]
  },
  {
   "cell_type": "markdown",
   "metadata": {},
   "source": [
    "If you look at the elements of `prophet_line`, you will see that the function returned lists and not strings. Our list is now a list of lists. Flatten the list using list comprehension. Assign this new list to `prophet_flat`."
   ]
  },
  {
   "cell_type": "code",
   "execution_count": 136,
   "metadata": {},
   "outputs": [
    {
     "name": "stdout",
     "output_type": "stream",
     "text": "['Farewell................92', 'PROPHET', 'the', 'chosen', 'and', 'the', 'who', 'was', 'a', 'dawn']\n"
    }
   ],
   "source": [
    "# your code here\n",
    "prophet_flat = [i[0] for i in prophet_line]\n",
    "print(prophet_flat[0:10])"
   ]
  },
  {
   "cell_type": "markdown",
   "metadata": {},
   "source": [
    "# Challenge 2 - Filtering\n",
    "\n",
    "When printing out a few words from the book, we see that there are words that we may not want to keep if we choose to analyze the corpus of text. Below is a list of words that we would like to get rid of. Create a function that will return false if it contains a word from the list of words specified and true otherwise."
   ]
  },
  {
   "cell_type": "code",
   "execution_count": 137,
   "metadata": {},
   "outputs": [],
   "source": [
    "def word_filter(x):\n",
    "    '''\n",
    "    Input: A string\n",
    "    Output: True if the word is not in the specified list \n",
    "    and False if the word is in the list.\n",
    "        \n",
    "    Example:\n",
    "    word list = ['and', 'the']\n",
    "    Input: 'and'\n",
    "    Output: False\n",
    "    \n",
    "    Input: 'John'\n",
    "    Output: True\n",
    "    '''\n",
    "    \n",
    "    word_list = ['and', 'the', 'a', 'an']\n",
    "    \n",
    "    # your code here\n",
    "    return (lambda x: True if x in word_list else False)"
   ]
  },
  {
   "cell_type": "markdown",
   "metadata": {},
   "source": [
    "Use the `filter()` function to filter out the words speficied in the `word_filter()` function. Store the filtered list in the variable `prophet_filter`."
   ]
  },
  {
   "cell_type": "code",
   "execution_count": 138,
   "metadata": {},
   "outputs": [
    {
     "data": {
      "text/plain": "['Farewell................92',\n 'PROPHET',\n 'the',\n 'chosen',\n 'and',\n 'the',\n 'who',\n 'was',\n 'a',\n 'dawn',\n 'unto',\n 'his',\n 'own',\n 'had',\n 'waited',\n 'twelve',\n 'years',\n 'in',\n 'the',\n 'city',\n 'Orphalese',\n 'for',\n 'his',\n 'ship',\n 'that',\n 'was',\n 'to',\n 'and',\n 'bear',\n 'him',\n 'back',\n 'to',\n 'the',\n 'isle',\n 'of',\n 'birth.',\n 'in',\n 'the',\n 'twelfth',\n 'year,',\n 'on',\n 'the',\n 'seventh',\n 'of',\n 'Ielool,',\n 'the',\n 'month',\n 'of',\n 'reaping,',\n 'he',\n 'the',\n 'hill',\n 'without',\n 'the',\n 'city',\n 'walls',\n 'looked',\n 'seaward;',\n 'and',\n 'he',\n 'beheld',\n 'his',\n 'coming',\n 'with',\n 'the',\n 'mist.',\n 'the',\n 'gates',\n 'of',\n 'his',\n 'heart',\n 'were',\n 'flung',\n 'and',\n 'his',\n 'joy',\n 'flew',\n 'far',\n 'over',\n 'the',\n 'sea.',\n 'he',\n 'closed',\n 'his',\n 'eyes',\n 'and',\n 'prayed',\n 'in',\n 'the',\n 'of',\n 'his',\n 'soul.',\n 'as',\n 'he',\n 'descended',\n 'the',\n 'hill,',\n 'a',\n 'sadness',\n 'upon',\n 'him,',\n 'and',\n 'he',\n 'thought',\n 'in',\n 'his',\n 'shall',\n 'I',\n 'go',\n 'in',\n 'peace',\n 'and',\n 'without',\n 'Nay,',\n 'not',\n 'without',\n 'a',\n 'wound',\n 'in',\n 'the',\n 'shall',\n 'I',\n 'leave',\n 'this',\n 'city.',\n '',\n 'the',\n 'days',\n 'of',\n 'pain',\n 'I',\n 'have',\n 'spent',\n 'its',\n 'walls,',\n 'and',\n 'long',\n 'were',\n 'the',\n 'of',\n 'aloneness;',\n 'and',\n 'who',\n 'can',\n 'depart',\n 'his',\n 'pain',\n 'and',\n 'his',\n 'aloneness',\n 'without',\n 'many',\n 'fragments',\n 'of',\n 'the',\n 'spirit',\n 'have',\n 'I',\n 'in',\n 'these',\n 'streets,',\n 'and',\n 'too',\n 'many',\n 'the',\n 'children',\n 'of',\n 'my',\n 'longing',\n 'that',\n 'walk',\n 'among',\n 'these',\n 'hills,',\n 'and',\n 'I',\n 'cannot',\n 'from',\n 'them',\n 'without',\n 'a',\n 'burden',\n 'and',\n 'ache.',\n 'is',\n 'not',\n 'a',\n 'garment',\n 'I',\n 'cast',\n 'off',\n 'this',\n 'but',\n 'a',\n 'skin',\n 'that',\n 'I',\n 'tear',\n 'with',\n 'my',\n 'own',\n 'is',\n 'it',\n 'a',\n 'thought',\n 'I',\n 'leave',\n 'behind',\n 'me,',\n 'a',\n 'heart',\n 'made',\n 'sweet',\n 'with',\n 'hunger',\n 'and',\n 'thirst.',\n 'I',\n 'cannot',\n 'tarry',\n 'longer.',\n 'sea',\n 'that',\n 'calls',\n 'all',\n 'things',\n 'unto',\n 'her',\n 'me,',\n 'and',\n 'I',\n 'must',\n 'embark.',\n 'to',\n 'stay,',\n 'though',\n 'the',\n 'hours',\n 'burn',\n 'in',\n 'night,',\n 'is',\n 'to',\n 'freeze',\n 'and',\n 'crystallize',\n 'be',\n 'bound',\n 'in',\n 'a',\n 'mould.',\n 'would',\n 'I',\n 'take',\n 'with',\n 'me',\n 'all',\n 'that',\n 'is',\n 'But',\n 'how',\n 'shall',\n 'I?',\n 'voice',\n 'cannot',\n 'carry',\n 'the',\n 'tongue',\n 'and',\n 'lips',\n 'that',\n 'gave',\n 'it',\n 'wings.',\n 'Alone',\n 'it',\n 'seek',\n 'the',\n 'ether.',\n 'alone',\n 'and',\n 'without',\n 'his',\n 'nest',\n 'shall',\n 'the',\n 'fly',\n 'across',\n 'the',\n 'sun.',\n 'when',\n 'he',\n 'reached',\n 'the',\n 'foot',\n 'of',\n 'the',\n 'he',\n 'turned',\n 'again',\n 'towards',\n 'the',\n 'sea,',\n 'he',\n 'saw',\n 'his',\n 'ship',\n 'approaching',\n 'the',\n 'and',\n 'upon',\n 'her',\n 'prow',\n 'the',\n 'mariners,',\n 'men',\n 'of',\n 'his',\n 'own',\n 'land.',\n 'his',\n 'soul',\n 'cried',\n 'out',\n 'to',\n 'them,',\n 'and',\n 'he',\n 'of',\n 'my',\n 'ancient',\n 'mother,',\n 'you',\n 'riders',\n 'of',\n 'tides,',\n 'often',\n 'have',\n 'you',\n 'sailed',\n 'in',\n 'my',\n 'dreams.',\n 'now',\n 'you',\n 'come',\n 'in',\n 'my',\n 'awakening,',\n 'which',\n 'my',\n 'deeper',\n 'dream.',\n 'am',\n 'I',\n 'to',\n 'go,',\n 'and',\n 'my',\n 'eagerness',\n 'with',\n 'full',\n 'set',\n 'awaits',\n 'the',\n 'wind.',\n 'another',\n 'breath',\n 'will',\n 'I',\n 'breathe',\n 'in',\n 'still',\n 'air,',\n 'only',\n 'another',\n 'loving',\n 'look',\n 'backward,',\n 'then',\n 'I',\n 'shall',\n 'stand',\n 'among',\n 'you,',\n 'a',\n 'among',\n 'seafarers.',\n '',\n 'you,',\n 'sea,',\n 'sleepless',\n 'mother,',\n 'alone',\n 'are',\n 'peace',\n 'and',\n 'freedom',\n 'to',\n 'the',\n 'and',\n 'the',\n 'stream,',\n 'another',\n 'winding',\n 'will',\n 'this',\n 'stream',\n 'only',\n 'another',\n 'murmur',\n 'in',\n 'this',\n 'glade,',\n 'then',\n 'shall',\n 'I',\n 'come',\n 'to',\n 'you,',\n 'a',\n 'drop',\n 'to',\n 'a',\n 'boundless',\n 'ocean.',\n 'as',\n 'he',\n 'walked',\n 'he',\n 'saw',\n 'from',\n 'afar',\n 'men',\n 'women',\n 'leaving',\n 'their',\n 'fields',\n 'and',\n 'their',\n 'and',\n 'hastening',\n 'towards',\n 'the',\n 'city',\n 'he',\n 'heard',\n 'their',\n 'voices',\n 'calling',\n 'his',\n 'and',\n 'shouting',\n 'from',\n 'field',\n 'to',\n 'field',\n 'one',\n 'another',\n 'of',\n 'the',\n 'coming',\n 'of',\n 'his',\n 'he',\n 'said',\n 'to',\n 'himself:',\n 'the',\n 'day',\n 'of',\n 'parting',\n 'be',\n 'the',\n 'day',\n 'of',\n 'shall',\n 'it',\n 'be',\n 'said',\n 'that',\n 'my',\n 'eve',\n 'was',\n 'in',\n 'my',\n 'dawn?',\n 'what',\n 'shall',\n 'I',\n 'give',\n 'unto',\n 'him',\n 'who',\n 'has',\n 'his',\n 'plough',\n 'in',\n 'midfurrow,',\n 'or',\n 'to',\n 'who',\n 'has',\n 'stopped',\n 'the',\n 'wheel',\n 'of',\n 'his',\n '',\n 'my',\n 'heart',\n 'become',\n 'a',\n 'heavy-laden',\n 'with',\n 'fruit',\n 'that',\n 'I',\n 'may',\n 'and',\n 'give',\n 'unto',\n 'them?',\n 'shall',\n 'my',\n 'desires',\n 'flow',\n 'like',\n 'a',\n 'that',\n 'I',\n 'may',\n 'fill',\n 'their',\n 'cups?',\n 'I',\n 'a',\n 'harp',\n 'that',\n 'the',\n 'hand',\n 'of',\n 'the',\n 'mighty',\n 'touch',\n 'me,',\n 'or',\n 'a',\n 'flute',\n 'that',\n 'his',\n 'breath',\n 'pass',\n 'through',\n 'me?',\n 'seeker',\n 'of',\n 'silences',\n 'am',\n 'I,',\n 'and',\n 'what',\n 'have',\n 'I',\n 'found',\n 'in',\n 'silences',\n 'that',\n 'I',\n 'dispense',\n 'with',\n 'confidence?',\n 'this',\n 'is',\n 'my',\n 'day',\n 'of',\n 'harvest,',\n 'in',\n 'what',\n 'have',\n 'I',\n 'sowed',\n 'the',\n 'seed,',\n 'and',\n 'in',\n 'unremembered',\n 'seasons?',\n 'this',\n 'indeed',\n 'be',\n 'the',\n 'hour',\n 'in',\n 'which',\n 'I',\n 'up',\n 'my',\n 'lantern,',\n 'it',\n 'is',\n 'not',\n 'my',\n 'flame',\n 'shall',\n 'burn',\n 'therein.',\n 'and',\n 'dark',\n 'shall',\n 'I',\n 'raise',\n 'my',\n 'lantern,',\n 'the',\n 'guardian',\n 'of',\n 'the',\n 'night',\n 'shall',\n 'fill',\n 'with',\n 'oil',\n 'and',\n 'he',\n 'shall',\n 'light',\n 'it',\n 'also.',\n 'things',\n 'he',\n 'said',\n 'in',\n 'words.',\n 'But',\n 'much',\n 'his',\n 'heart',\n 'remained',\n 'unsaid.',\n 'For',\n '',\n 'could',\n 'not',\n 'speak',\n 'his',\n 'deeper',\n '0020]',\n 'when',\n 'he',\n 'entered',\n 'into',\n 'the',\n 'city',\n 'all',\n 'people',\n 'came',\n 'to',\n 'meet',\n 'him,',\n 'and',\n 'they',\n 'crying',\n 'out',\n 'to',\n 'him',\n 'as',\n 'with',\n 'one',\n 'the',\n 'elders',\n 'of',\n 'the',\n 'city',\n 'stood',\n 'forth',\n 'said:',\n 'not',\n 'yet',\n 'away',\n 'from',\n 'us.',\n 'noontide',\n 'have',\n 'you',\n 'been',\n 'in',\n 'our',\n 'and',\n 'your',\n 'youth',\n 'has',\n 'given',\n 'us',\n 'to',\n 'dream.',\n 'stranger',\n 'are',\n 'you',\n 'among',\n 'us,',\n 'nor',\n 'guest,',\n 'but',\n 'our',\n 'son',\n 'and',\n 'our',\n 'dearly',\n 'not',\n 'yet',\n 'our',\n 'eyes',\n 'to',\n 'hunger',\n 'for',\n 'face.',\n 'the',\n 'priests',\n 'and',\n 'the',\n 'priestesses',\n 'said',\n 'him:',\n 'not',\n 'the',\n 'waves',\n 'of',\n 'the',\n 'sea',\n 'separate',\n 'us',\n 'and',\n 'the',\n 'years',\n 'you',\n 'have',\n 'spent',\n 'in',\n 'our',\n 'become',\n 'a',\n 'memory.',\n 'have',\n 'walked',\n 'among',\n 'us',\n 'a',\n 'spirit,',\n 'your',\n 'shadow',\n 'has',\n 'been',\n 'a',\n 'light',\n 'our',\n 'faces.',\n 'have',\n 'we',\n 'loved',\n 'you.',\n 'But',\n 'speechless',\n 'our',\n 'love,',\n 'and',\n 'with',\n 'veils',\n 'has',\n 'it',\n 'been',\n 'now',\n 'it',\n 'cries',\n 'aloud',\n 'unto',\n 'you,',\n 'and',\n 'stand',\n 'revealed',\n 'before',\n 'you.',\n 'ever',\n 'has',\n 'it',\n 'been',\n 'that',\n 'love',\n 'knows',\n 'its',\n 'own',\n 'depth',\n 'until',\n 'the',\n 'hour',\n 'of',\n 'others',\n 'came',\n 'also',\n 'and',\n 'entreated',\n 'him.',\n 'he',\n 'answered',\n 'them',\n 'not.',\n 'He',\n 'only',\n 'bent',\n 'head;',\n 'and',\n 'those',\n 'who',\n 'stood',\n 'near',\n 'saw',\n 'tears',\n 'falling',\n 'upon',\n 'his',\n 'breast.',\n 'he',\n 'and',\n 'the',\n 'people',\n 'proceeded',\n 'towards',\n 'great',\n 'square',\n 'before',\n 'the',\n 'temple.',\n 'there',\n 'came',\n 'out',\n 'of',\n 'the',\n 'sanctuary',\n 'a',\n 'whose',\n 'name',\n 'was',\n 'Almitra.',\n 'And',\n 'she',\n 'a',\n 'seeress.',\n 'he',\n 'looked',\n 'upon',\n 'her',\n 'with',\n 'exceeding',\n 'for',\n 'it',\n 'was',\n 'she',\n 'who',\n 'had',\n 'first',\n 'and',\n 'believed',\n 'in',\n 'him',\n 'when',\n 'he',\n 'had',\n 'but',\n 'a',\n 'day',\n 'in',\n 'their',\n 'city.',\n '',\n 'hailed',\n 'him,',\n 'saying:',\n 'of',\n 'God,',\n 'in',\n 'quest',\n 'of',\n 'the',\n 'long',\n 'have',\n 'you',\n 'searched',\n 'the',\n 'for',\n 'your',\n 'ship.',\n 'now',\n 'your',\n 'ship',\n 'has',\n 'come,',\n 'and',\n 'you',\n 'must',\n 'go.',\n 'is',\n 'your',\n 'longing',\n 'for',\n 'the',\n 'land',\n 'of',\n 'memories',\n 'and',\n 'the',\n 'dwelling',\n 'place',\n 'your',\n 'greater',\n 'desires;',\n 'and',\n 'our',\n 'love',\n 'not',\n 'bind',\n 'you',\n 'nor',\n 'our',\n 'needs',\n 'hold',\n 'this',\n 'we',\n 'ask',\n 'ere',\n 'you',\n 'leave',\n 'us,',\n 'that',\n 'speak',\n 'to',\n 'us',\n 'and',\n 'give',\n 'us',\n 'of',\n 'your',\n 'we',\n 'will',\n 'give',\n 'it',\n 'unto',\n 'our',\n 'children,',\n 'they',\n 'unto',\n 'their',\n 'children,',\n 'and',\n 'it',\n 'not',\n 'perish.',\n 'your',\n 'aloneness',\n 'you',\n 'have',\n 'watched',\n 'with',\n 'days,',\n 'and',\n 'in',\n 'your',\n 'wakefulness',\n 'you',\n 'listened',\n 'to',\n 'the',\n 'weeping',\n 'and',\n 'the',\n 'of',\n 'our',\n 'sleep.',\n 'therefore',\n 'disclose',\n 'us',\n 'to',\n 'ourselves,',\n 'tell',\n 'us',\n 'all',\n 'that',\n 'has',\n 'been',\n 'shown',\n 'of',\n 'that',\n 'which',\n 'is',\n 'between',\n 'birth',\n 'and',\n 'he',\n 'answered,',\n 'of',\n ...]"
     },
     "execution_count": 138,
     "metadata": {},
     "output_type": "execute_result"
    }
   ],
   "source": [
    "prophet_filter = list(filter(word_filter, prophet_flat))\n",
    "prophet_filter"
   ]
  },
  {
   "cell_type": "markdown",
   "metadata": {},
   "source": [
    "# Bonus Challenge\n",
    "\n",
    "Rewrite the `word_filter` function above to not be case sensitive."
   ]
  },
  {
   "cell_type": "code",
   "execution_count": 139,
   "metadata": {},
   "outputs": [],
   "source": [
    "def word_filter_case(x):\n",
    "   \n",
    "    word_list = ['and', 'the', 'a', 'an']\n",
    "    return (lambda x: True if lower(x) in word_list else False)\n",
    "    # as the words in the word_list are lower case, instead of comparing x to be in word_list, I compare lower(x)."
   ]
  },
  {
   "cell_type": "markdown",
   "metadata": {},
   "source": [
    "# Challenge 3 - Reducing\n",
    "\n",
    "#### Now that we have significantly cleaned up our text corpus, let's use the `reduce()` function to put the words back together into one long string separated by spaces. \n",
    "\n",
    "We will start by writing a function that takes two strings and concatenates them together with a space between the two strings."
   ]
  },
  {
   "cell_type": "code",
   "execution_count": 140,
   "metadata": {},
   "outputs": [],
   "source": [
    "def concat_space(a, b):\n",
    "    '''\n",
    "    Input:Two strings\n",
    "    Output: A single string separated by a space\n",
    "        \n",
    "    Example:\n",
    "    Input: 'John', 'Smith'\n",
    "    Output: 'John Smith'\n",
    "    '''\n",
    "    return a + ' ' + b\n",
    "    # your code here"
   ]
  },
  {
   "cell_type": "markdown",
   "metadata": {},
   "source": [
    "Use the function above to reduce the text corpus in the list `prophet_filter` into a single string. Assign this new string to the variable `prophet_string`."
   ]
  },
  {
   "cell_type": "code",
   "execution_count": 141,
   "metadata": {},
   "outputs": [
    {
     "data": {
      "text/plain": "ver was also the doubter; often have I put my finger my own wound that I might have the belief in you and the greater of you. it is with this belief and this that I say, are not enclosed within your bodies, confined to houses or fields. which is you dwells above the and roves with the wind. is not a thing that crawls into sun for warmth or digs holes into for safety, a thing free, a spirit that envelops earth and moves in the ether. these be vague words, then seek not clear them. and nebulous is the beginning of things, but not their end, I fain would have you remember me as beginning. and all that lives, is conceived the mist and not in the crystal. who knows but a crystal is mist decay? would I have you remember in me: which seems most feeble and in you is the strongest and determined. it not your breath that has erected hardened the structure of your is it not a dream which none of you having dreamt, that builded city and fashioned all there is in you but see the tides of that you would cease to see all else, if you could hear the whispering of dream you would hear no other sound. you do not see, nor do you hear, and is well. veil that clouds your eyes shall be by the hands that wove it, the clay that fills your ears shall pierced by those fingers that kneaded  you shall see. you shall hear. you shall not deplore having known nor regret having been deaf. in that day you shall know the purposes in all things, you shall bless darkness as you bless light. saying these things he looked him, and he saw the pilot of his standing by the helm and gazing at the full sails and now at the he said: over patient, is the captain of ship. wind blows, and restless are the the rudder begs direction; quietly my captain awaits my these my mariners, who have heard choir of the greater sea, they too heard me patiently.  they wait no longer. am ready. stream has reached the sea, and more the great mother holds her son her breast. you well, people of Orphalese. day has ended. is closing upon us even as the upon its own tomorrow. was given us here we shall keep, if it suffices not, then again must come together and together stretch hands unto the giver. not that I shall come back to little while, and my longing shall dust and foam for another body. little while, a moment of rest upon wind, and another woman shall bear to you and the youth I have with you. was but yesterday we met in a  have sung to me in my and I of your longings have a tower in the sky. now our sleep has fled and our dream over, and it is no longer dawn. noontide is upon us and our half has turned to fuller day, and we part. in the twilight of memory we should once more, we shall speak again and you shall sing to me a song. if our hands should meet in another we shall build another tower in sky. saying he made a signal to the and straightway they weighed and cast the ship loose from its and they moved eastward. a cry came from the people as from a heart, and it rose into the dusk was carried out over the sea like a trumpeting. Almitra was silent, gazing after ship until it had vanished into mist. when all the people were dispersed still stood alone upon the sea-wall, in her heart his saying, little while, a moment of rest upon wind, and another woman shall bear 0134] of the Project Gutenberg EBook of The Prophet, by Kahlil Gibran END OF THIS PROJECT GUTENBERG EBOOK THE PROPHET *** This file should be named 58585-0.txt or 58585-0.zip ***** and all associated files of various formats will be found in:        http://www.gutenberg.org/5/8/5/8/58585/ by David Widger from page images generously by the Internet Archive editions will replace the previous one--the old editions will renamed. the works from print editions not protected by U.S. copyright means that no one owns a United States copyright in these works, the Foundation (and you!) can copy and distribute it in the United without permission and without paying copyright Special rules, set forth in the General Terms of Use part this license, apply to copying and distributing Project electronic works to protect the PROJECT GUTENBERG-tm and trademark. Project Gutenberg is a registered trademark, may not be used if you charge for the eBooks, unless you receive permission. If you do not charge anything for copies of this complying with the rules is very easy. You may use this eBook nearly any purpose such as creation of derivative works, reports, and research. They may be modified and printed and given may do practically ANYTHING in the United States with eBooks protected by U.S. copyright law. Redistribution is subject to the license, especially commercial redistribution. FULL LICENSE FULL PROJECT GUTENBERG LICENSE READ THIS BEFORE YOU DISTRIBUTE OR USE THIS WORK protect the Project Gutenberg-tm mission of promoting the free of electronic works, by using or distributing this work any other work associated in any way with the phrase \"Project you agree to comply with all the terms of the Full Gutenberg-tm License available with this file or online at 1. General Terms of Use and Redistributing Project electronic works By reading or using any part of this Project Gutenberg-tm work, you indicate that you have read, understand, agree to accept all the terms of this license and intellectual property agreement. If you do not agree to abide by all terms of this agreement, you must cease using and return or all copies of Project Gutenberg-tm electronic works in your If you paid a fee for obtaining a copy of or access to a Gutenberg-tm electronic work and you do not agree to be bound the terms of this agreement, you may obtain a refund from the or entity to whom you paid the fee as set forth in paragraph \"Project Gutenberg\" is a registered trademark. It may only be on or associated in any way with an electronic work by people who to be bound by the terms of this agreement. There are a few that you can do with most Project Gutenberg-tm electronic works without complying with the full terms of this agreement. See 1.C below. There are a lot of things you can do with Project electronic works if you follow the terms of this and help preserve free future access to Project Gutenberg-tm works. See paragraph 1.E below. The Project Gutenberg Literary Archive Foundation (\"the or PGLAF), owns a compilation copyright in the collection Project Gutenberg-tm electronic works. Nearly all the individual in the collection are in the public domain in the United If an individual work is unprotected by copyright law in the States and you are located in the United States, we do not a right to prevent you from copying, distributing, performing, or creating derivative works based on the work as long as references to Project Gutenberg are removed. Of course, we hope you will support the Project Gutenberg-tm mission of promoting access to electronic works by freely sharing Project Gutenberg-tm in compliance with the terms of this agreement for keeping the Gutenberg-tm name associated with the work. You can easily with the terms of this agreement by keeping this work in the format with its attached full Project Gutenberg-tm License when share it without charge with others. The copyright laws of the place where you are located also govern you can do with this work. Copyright laws in most countries are a constant state of change. If you are outside the United States, the laws of your country in addition to the terms of this before downloading, copying, displaying, performing, or creating derivative works based on this work or any Project Gutenberg-tm work. The Foundation makes no concerning the copyright status of any work in any outside the United States. Unless you have removed all references to Project Gutenberg: The following sentence, with active links to, or other access to, the full Project Gutenberg-tm License must appear whenever any copy of a Project Gutenberg-tm work (any work which the phrase \"Project Gutenberg\" appears, or with which the \"Project Gutenberg\" is associated) is accessed, displayed, viewed, copied or distributed:  This eBook is for the use of anyone anywhere in the United States and  most other parts of the world at no cost and with almost no  restrictions whatsoever. You may copy it, give it away or re-use it  under the terms of the Project Gutenberg License included with this  eBook or online at www.gutenberg.org. If you are not located in the  United States, you\\'ll have to check the laws of the country where you  are located before using this ebook. If an individual Project Gutenberg-tm electronic work is from texts not protected by U.S. copyright law (does not a notice indicating that it is posted with permission of the holder), the work can be copied and distributed to anyone in United States without paying any fees or charges. If you are or providing access to a work with the phrase \"Project associated with or appearing on the work, you must comply with the requirements of paragraphs 1.E.1 through 1.E.7 or permission for the use of the work and the Project Gutenberg-tm as set forth in paragraphs 1.E.8 or 1.E.9. If an individual Project Gutenberg-tm electronic work is posted the permission of the copyright holder, your use and distribution comply with both paragraphs 1.E.1 through 1.E.7 and any terms imposed by the copyright holder. Additional terms be linked to the Project Gutenberg-tm License for all works with the permission of the copyright holder found at the of this work. Do not unlink or detach or remove the full Project Gutenberg-tm terms from this work, or any files containing a part of this or any other work associated with Project Gutenberg-tm. Do not copy, display, perform, distribute or redistribute this work, or any part of this electronic work, without displaying the sentence set forth in paragraph 1.E.1 with links or immediate access to the full terms of the Project License. You may convert to and distribute this work in any binary, marked up, nonproprietary or proprietary form, including word processing or hypertext form. However, if you provide access or distribute copies of a Project Gutenberg-tm work in a format than \"Plain Vanilla ASCII\" or other format used in the official posted on the official Project Gutenberg-tm web site you must, at no additional cost, fee or expense the user, provide a copy, a means of exporting a copy, or a means obtaining a copy upon request, of the work in its original \"Plain ASCII\" or other form. Any alternate format must include the Project Gutenberg-tm License as specified in paragraph 1.E.1. Do not charge a fee for access to, viewing, displaying, copying or distributing any Project Gutenberg-tm works you comply with paragraph 1.E.8 or 1.E.9. You may charge a reasonable fee for copies of or providing to or distributing Project Gutenberg-tm electronic works that You pay a royalty fee of 20% of the gross profits you derive from  the use of Project Gutenberg-tm works calculated using the method  you already use to calculate your applicable taxes. The fee is owed  to the owner of the Project Gutenberg-tm trademark, but he has  agreed to donate royalties under this paragraph to the Project  Gutenberg Literary Archive Foundation. Royalty payments must be paid  within 60 days following each date on which you prepare (or are  legally required to prepare) your periodic tax returns. Royalty  payments should be clearly marked as such and sent to the Project  Gutenberg Literary Archive Foundation at the address specified in  Section 4, \"Information about donations to the Project Gutenberg  Literary Archive Foundation.\" You provide a full refund of any money paid by a user who notifies  you in writing (or by e-mail) within 30 days of receipt that s/he  does not agree to the terms of the full Project Gutenberg-tm  License. You must require such a user to return or destroy all  copies of the works possessed in a physical medium and discontinue  all use of and all access to other copies of Project Gutenberg-tm  works. You provide, in accordance with paragraph 1.F.3, a full refund of  any money paid for a work or a replacement copy, if a defect in the  electronic work is discovered and reported to you within 90 days of  receipt of the work. You comply with all other terms of this agreement for free  distribution of Project Gutenberg-tm works. If you wish to charge a fee or distribute a Project electronic work or group of works on different terms than set forth in this agreement, you must obtain permission in writing both the Project Gutenberg Literary Archive Foundation and The Gutenberg Trademark LLC, the owner of the Project Gutenberg-tm Contact the Foundation as set forth in Section 3 below. Project Gutenberg volunteers and employees expend considerable to identify, do copyright research on, transcribe and proofread not protected by U.S. copyright law in creating the Project collection. Despite these efforts, Project Gutenberg-tm works, and the medium on which they may be stored, may \"Defects,\" such as, but not limited to, incomplete, inaccurate corrupt data, transcription errors, a copyright or other property infringement, a defective or damaged disk or medium, a computer virus, or computer codes that damage or be read by your equipment. LIMITED WARRANTY, DISCLAIMER OF DAMAGES - Except for the \"Right Replacement or Refund\" described in paragraph 1.F.3, the Project Literary Archive Foundation, the owner of the Project trademark, and any other party distributing a Project electronic work under this agreement, disclaim all to you for damages, costs and expenses, including legal YOU AGREE THAT YOU HAVE NO REMEDIES FOR NEGLIGENCE, STRICT BREACH OF WARRANTY OR BREACH OF CONTRACT EXCEPT THOSE IN PARAGRAPH 1.F.3. YOU AGREE THAT THE FOUNDATION, THE OWNER, AND ANY DISTRIBUTOR UNDER THIS AGREEMENT WILL NOT BE TO YOU FOR ACTUAL, DIRECT, INDIRECT, CONSEQUENTIAL, PUNITIVE OR DAMAGES EVEN IF YOU GIVE NOTICE OF THE POSSIBILITY OF SUCH LIMITED RIGHT OF REPLACEMENT OR REFUND - If you discover a in this electronic work within 90 days of receiving it, you can a refund of the money (if any) you paid for it by sending a explanation to the person you received the work from. If you the work on a physical medium, you must return the medium your written explanation. The person or entity that provided you the defective work may elect to provide a replacement copy in of a refund. If you received the work electronically, the person entity providing it to you may choose to give you a second to receive the work electronically in lieu of a refund. If second copy is also defective, you may demand a refund in writing further opportunities to fix the problem. Except for the limited right of replacement or refund set forth paragraph 1.F.3, this work is provided to you \\'AS-IS\\', WITH NO WARRANTIES OF ANY KIND, EXPRESS OR IMPLIED, INCLUDING BUT NOT TO WARRANTIES OF MERCHANTABILITY OR FITNESS FOR ANY PURPOSE. Some states do not allow disclaimers of certain implied or the exclusion or limitation of certain types of If any disclaimer or limitation set forth in this agreement the law of the state applicable to this agreement, the shall be interpreted to make the maximum disclaimer or permitted by the applicable state law. The invalidity or of any provision of this agreement shall not void the provisions. INDEMNITY - You agree to indemnify and hold the Foundation, the owner, any agent or employee of the Foundation, anyone copies of Project Gutenberg-tm electronic works in with this agreement, and any volunteers associated with the promotion and distribution of Project Gutenberg-tm works, harmless from all liability, costs and expenses, legal fees, that arise directly or indirectly from any of following which you do or cause to occur: (a) distribution of this any Project Gutenberg-tm work, (b) alteration, modification, or or deletions to any Project Gutenberg-tm work, and (c) any you cause. 2. Information about the Mission of Project Gutenberg-tm Gutenberg-tm is synonymous with the free distribution of works in formats readable by the widest variety of including obsolete, old, middle-aged and new computers. It because of the efforts of hundreds of volunteers and donations people in all walks of life. and financial support to provide volunteers with the they need are critical to reaching Project Gutenberg-tm\\'s and ensuring that the Project Gutenberg-tm collection will freely available for generations to come. In 2001, the Project Literary Archive Foundation was created to provide a secure permanent future for Project Gutenberg-tm and future To learn more about the Project Gutenberg Literary Foundation and how your efforts and donations can help, see 3 and 4 and the Foundation information page at Section 3. Information about the Project Gutenberg Archive Foundation Project Gutenberg Literary Archive Foundation is a non profit educational corporation organized under the laws of the of Mississippi and granted tax exempt status by the Internal Service. The Foundation\\'s EIN or federal tax identification is 64-6221541. Contributions to the Project Gutenberg Literary Foundation are tax deductible to the full extent permitted by federal laws and your state\\'s laws. Foundation\\'s principal office is in Fairbanks, Alaska, with the address: PO Box 750175, Fairbanks, AK 99775, but its and employees are scattered throughout numerous Its business office is located at 809 North 1500 West, Salt City, UT 84116, (801) 596-1887. Email contact links and up to contact information can be found at the Foundation\\'s web site and page at www.gutenberg.org/contact additional contact information:    Dr. Gregory B. Newby    Chief Executive and Director    gbnewby@pglaf.org 4. Information about Donations to the Project Gutenberg Archive Foundation Gutenberg-tm depends upon and cannot survive without wide public support and donations to carry out its mission of the number of public domain and licensed works that can be distributed in machine readable form accessible by the widest of equipment including outdated equipment. Many small donations to $5,000) are particularly important to maintaining tax exempt with the IRS. Foundation is committed to complying with the laws regulating and charitable donations in all 50 states of the United Compliance requirements are not uniform and it takes a effort, much paperwork and many fees to meet and keep up these requirements. We do not solicit donations in locations we have not received written confirmation of compliance. To SEND or determine the status of compliance for any particular visit www.gutenberg.org/donate we cannot and do not solicit contributions from states where we not met the solicitation requirements, we know of no prohibition accepting unsolicited donations from donors in such states who us with offers to donate. donations are gratefully accepted, but we cannot make statements concerning tax treatment of donations received from the United States. U.S. laws alone swamp our small staff. check the Project Gutenberg Web pages for current donation and addresses. Donations are accepted in a number of other including checks, online payments and credit card donations. To please visit: www.gutenberg.org/donate 5. General Information About Project Gutenberg-tm electronic works. Michael S. Hart was the originator of the Project concept of a library of electronic works that could be shared with anyone. For forty years, he produced and Project Gutenberg-tm eBooks with only a loose network of support. Gutenberg-tm eBooks are often created from several printed all of which are confirmed as not protected by copyright in U.S. unless a copyright notice is included. Thus, we do not keep eBooks in compliance with any particular paper people start at our Web site which has the main PG search www.gutenberg.org Web site includes information about Project Gutenberg-tm, how to make donations to the Project Gutenberg Literary Foundation, how to help produce our new eBooks, and how to to our email newsletter to hear about new eBooks.'"
     },
     "execution_count": 141,
     "metadata": {},
     "output_type": "execute_result"
    }
   ],
   "source": [
    "prophet_string = reduce(concat_space, prophet_filter)\n",
    "prophet_string"
   ]
  },
  {
   "cell_type": "markdown",
   "metadata": {},
   "source": [
    "# Challenge 4 - Applying Functions to DataFrames\n",
    "\n",
    "#### Our next step is to use the apply function to a dataframe and transform all cells.\n",
    "\n",
    "To do this, we will connect to Ironhack's database and retrieve the data from the *pollution* database. Select the *beijing_pollution* table and retrieve its data."
   ]
  },
  {
   "cell_type": "code",
   "execution_count": 142,
   "metadata": {},
   "outputs": [],
   "source": [
    "# your code here\n",
    "import sqlalchemy\n",
    "import pymysql\n",
    "from sqlalchemy import create_engine"
   ]
  },
  {
   "cell_type": "code",
   "execution_count": 143,
   "metadata": {},
   "outputs": [],
   "source": [
    "driver = 'mysql+pymysql'\n",
    "ip = '34.65.10.136'\n",
    "username = 'data-students'\n",
    "password = 'iR0nH@cK-D4T4B4S3'\n",
    "db = 'pollution'\n",
    "connection_string  = f'{driver}://{username}:{password}@{ip}/{db}'"
   ]
  },
  {
   "cell_type": "code",
   "execution_count": 144,
   "metadata": {},
   "outputs": [
    {
     "data": {
      "text/html": "<div>\n<style scoped>\n    .dataframe tbody tr th:only-of-type {\n        vertical-align: middle;\n    }\n\n    .dataframe tbody tr th {\n        vertical-align: top;\n    }\n\n    .dataframe thead th {\n        text-align: right;\n    }\n</style>\n<table border=\"1\" class=\"dataframe\">\n  <thead>\n    <tr style=\"text-align: right;\">\n      <th></th>\n      <th>No</th>\n      <th>year</th>\n      <th>month</th>\n      <th>day</th>\n      <th>hour</th>\n      <th>pm2.5</th>\n      <th>DEWP</th>\n      <th>TEMP</th>\n      <th>PRES</th>\n      <th>cbwd</th>\n      <th>Iws</th>\n      <th>Is</th>\n      <th>Ir</th>\n    </tr>\n  </thead>\n  <tbody>\n    <tr>\n      <th>0</th>\n      <td>1</td>\n      <td>2010</td>\n      <td>1</td>\n      <td>1</td>\n      <td>0</td>\n      <td>NaN</td>\n      <td>-21</td>\n      <td>-11.0</td>\n      <td>1021.0</td>\n      <td>NW</td>\n      <td>1.79</td>\n      <td>0</td>\n      <td>0</td>\n    </tr>\n    <tr>\n      <th>1</th>\n      <td>2</td>\n      <td>2010</td>\n      <td>1</td>\n      <td>1</td>\n      <td>1</td>\n      <td>NaN</td>\n      <td>-21</td>\n      <td>-12.0</td>\n      <td>1020.0</td>\n      <td>NW</td>\n      <td>4.92</td>\n      <td>0</td>\n      <td>0</td>\n    </tr>\n    <tr>\n      <th>2</th>\n      <td>3</td>\n      <td>2010</td>\n      <td>1</td>\n      <td>1</td>\n      <td>2</td>\n      <td>NaN</td>\n      <td>-21</td>\n      <td>-11.0</td>\n      <td>1019.0</td>\n      <td>NW</td>\n      <td>6.71</td>\n      <td>0</td>\n      <td>0</td>\n    </tr>\n    <tr>\n      <th>3</th>\n      <td>4</td>\n      <td>2010</td>\n      <td>1</td>\n      <td>1</td>\n      <td>3</td>\n      <td>NaN</td>\n      <td>-21</td>\n      <td>-14.0</td>\n      <td>1019.0</td>\n      <td>NW</td>\n      <td>9.84</td>\n      <td>0</td>\n      <td>0</td>\n    </tr>\n    <tr>\n      <th>4</th>\n      <td>5</td>\n      <td>2010</td>\n      <td>1</td>\n      <td>1</td>\n      <td>4</td>\n      <td>NaN</td>\n      <td>-20</td>\n      <td>-12.0</td>\n      <td>1018.0</td>\n      <td>NW</td>\n      <td>12.97</td>\n      <td>0</td>\n      <td>0</td>\n    </tr>\n    <tr>\n      <th>...</th>\n      <td>...</td>\n      <td>...</td>\n      <td>...</td>\n      <td>...</td>\n      <td>...</td>\n      <td>...</td>\n      <td>...</td>\n      <td>...</td>\n      <td>...</td>\n      <td>...</td>\n      <td>...</td>\n      <td>...</td>\n      <td>...</td>\n    </tr>\n    <tr>\n      <th>43819</th>\n      <td>43820</td>\n      <td>2014</td>\n      <td>12</td>\n      <td>31</td>\n      <td>19</td>\n      <td>8.0</td>\n      <td>-23</td>\n      <td>-2.0</td>\n      <td>1034.0</td>\n      <td>NW</td>\n      <td>231.97</td>\n      <td>0</td>\n      <td>0</td>\n    </tr>\n    <tr>\n      <th>43820</th>\n      <td>43821</td>\n      <td>2014</td>\n      <td>12</td>\n      <td>31</td>\n      <td>20</td>\n      <td>10.0</td>\n      <td>-22</td>\n      <td>-3.0</td>\n      <td>1034.0</td>\n      <td>NW</td>\n      <td>237.78</td>\n      <td>0</td>\n      <td>0</td>\n    </tr>\n    <tr>\n      <th>43821</th>\n      <td>43822</td>\n      <td>2014</td>\n      <td>12</td>\n      <td>31</td>\n      <td>21</td>\n      <td>10.0</td>\n      <td>-22</td>\n      <td>-3.0</td>\n      <td>1034.0</td>\n      <td>NW</td>\n      <td>242.70</td>\n      <td>0</td>\n      <td>0</td>\n    </tr>\n    <tr>\n      <th>43822</th>\n      <td>43823</td>\n      <td>2014</td>\n      <td>12</td>\n      <td>31</td>\n      <td>22</td>\n      <td>8.0</td>\n      <td>-22</td>\n      <td>-4.0</td>\n      <td>1034.0</td>\n      <td>NW</td>\n      <td>246.72</td>\n      <td>0</td>\n      <td>0</td>\n    </tr>\n    <tr>\n      <th>43823</th>\n      <td>43824</td>\n      <td>2014</td>\n      <td>12</td>\n      <td>31</td>\n      <td>23</td>\n      <td>12.0</td>\n      <td>-21</td>\n      <td>-3.0</td>\n      <td>1034.0</td>\n      <td>NW</td>\n      <td>249.85</td>\n      <td>0</td>\n      <td>0</td>\n    </tr>\n  </tbody>\n</table>\n<p>43824 rows × 13 columns</p>\n</div>",
      "text/plain": "          No  year  month  day  hour  pm2.5  DEWP  TEMP    PRES cbwd     Iws  \\\n0          1  2010      1    1     0    NaN   -21 -11.0  1021.0   NW    1.79   \n1          2  2010      1    1     1    NaN   -21 -12.0  1020.0   NW    4.92   \n2          3  2010      1    1     2    NaN   -21 -11.0  1019.0   NW    6.71   \n3          4  2010      1    1     3    NaN   -21 -14.0  1019.0   NW    9.84   \n4          5  2010      1    1     4    NaN   -20 -12.0  1018.0   NW   12.97   \n...      ...   ...    ...  ...   ...    ...   ...   ...     ...  ...     ...   \n43819  43820  2014     12   31    19    8.0   -23  -2.0  1034.0   NW  231.97   \n43820  43821  2014     12   31    20   10.0   -22  -3.0  1034.0   NW  237.78   \n43821  43822  2014     12   31    21   10.0   -22  -3.0  1034.0   NW  242.70   \n43822  43823  2014     12   31    22    8.0   -22  -4.0  1034.0   NW  246.72   \n43823  43824  2014     12   31    23   12.0   -21  -3.0  1034.0   NW  249.85   \n\n       Is  Ir  \n0       0   0  \n1       0   0  \n2       0   0  \n3       0   0  \n4       0   0  \n...    ..  ..  \n43819   0   0  \n43820   0   0  \n43821   0   0  \n43822   0   0  \n43823   0   0  \n\n[43824 rows x 13 columns]"
     },
     "execution_count": 144,
     "metadata": {},
     "output_type": "execute_result"
    }
   ],
   "source": [
    "engine = create_engine(connection_string)\n",
    "query = 'SELECT * FROM beijing_pollution'\n",
    "beijing_pollution = pd.read_sql(query,engine)\n",
    "beijing_pollution"
   ]
  },
  {
   "cell_type": "markdown",
   "metadata": {},
   "source": [
    "Let's look at the data using the `head()` function."
   ]
  },
  {
   "cell_type": "code",
   "execution_count": 145,
   "metadata": {},
   "outputs": [
    {
     "data": {
      "text/html": "<div>\n<style scoped>\n    .dataframe tbody tr th:only-of-type {\n        vertical-align: middle;\n    }\n\n    .dataframe tbody tr th {\n        vertical-align: top;\n    }\n\n    .dataframe thead th {\n        text-align: right;\n    }\n</style>\n<table border=\"1\" class=\"dataframe\">\n  <thead>\n    <tr style=\"text-align: right;\">\n      <th></th>\n      <th>No</th>\n      <th>year</th>\n      <th>month</th>\n      <th>day</th>\n      <th>hour</th>\n      <th>pm2.5</th>\n      <th>DEWP</th>\n      <th>TEMP</th>\n      <th>PRES</th>\n      <th>cbwd</th>\n      <th>Iws</th>\n      <th>Is</th>\n      <th>Ir</th>\n    </tr>\n  </thead>\n  <tbody>\n    <tr>\n      <th>0</th>\n      <td>1</td>\n      <td>2010</td>\n      <td>1</td>\n      <td>1</td>\n      <td>0</td>\n      <td>NaN</td>\n      <td>-21</td>\n      <td>-11.0</td>\n      <td>1021.0</td>\n      <td>NW</td>\n      <td>1.79</td>\n      <td>0</td>\n      <td>0</td>\n    </tr>\n    <tr>\n      <th>1</th>\n      <td>2</td>\n      <td>2010</td>\n      <td>1</td>\n      <td>1</td>\n      <td>1</td>\n      <td>NaN</td>\n      <td>-21</td>\n      <td>-12.0</td>\n      <td>1020.0</td>\n      <td>NW</td>\n      <td>4.92</td>\n      <td>0</td>\n      <td>0</td>\n    </tr>\n    <tr>\n      <th>2</th>\n      <td>3</td>\n      <td>2010</td>\n      <td>1</td>\n      <td>1</td>\n      <td>2</td>\n      <td>NaN</td>\n      <td>-21</td>\n      <td>-11.0</td>\n      <td>1019.0</td>\n      <td>NW</td>\n      <td>6.71</td>\n      <td>0</td>\n      <td>0</td>\n    </tr>\n    <tr>\n      <th>3</th>\n      <td>4</td>\n      <td>2010</td>\n      <td>1</td>\n      <td>1</td>\n      <td>3</td>\n      <td>NaN</td>\n      <td>-21</td>\n      <td>-14.0</td>\n      <td>1019.0</td>\n      <td>NW</td>\n      <td>9.84</td>\n      <td>0</td>\n      <td>0</td>\n    </tr>\n    <tr>\n      <th>4</th>\n      <td>5</td>\n      <td>2010</td>\n      <td>1</td>\n      <td>1</td>\n      <td>4</td>\n      <td>NaN</td>\n      <td>-20</td>\n      <td>-12.0</td>\n      <td>1018.0</td>\n      <td>NW</td>\n      <td>12.97</td>\n      <td>0</td>\n      <td>0</td>\n    </tr>\n  </tbody>\n</table>\n</div>",
      "text/plain": "   No  year  month  day  hour  pm2.5  DEWP  TEMP    PRES cbwd    Iws  Is  Ir\n0   1  2010      1    1     0    NaN   -21 -11.0  1021.0   NW   1.79   0   0\n1   2  2010      1    1     1    NaN   -21 -12.0  1020.0   NW   4.92   0   0\n2   3  2010      1    1     2    NaN   -21 -11.0  1019.0   NW   6.71   0   0\n3   4  2010      1    1     3    NaN   -21 -14.0  1019.0   NW   9.84   0   0\n4   5  2010      1    1     4    NaN   -20 -12.0  1018.0   NW  12.97   0   0"
     },
     "execution_count": 145,
     "metadata": {},
     "output_type": "execute_result"
    }
   ],
   "source": [
    "# your code here\n",
    "beijing_pollution.head()"
   ]
  },
  {
   "cell_type": "markdown",
   "metadata": {},
   "source": [
    "The next step is to create a function that divides a cell by 24 to produce an hourly figure. Write the function below."
   ]
  },
  {
   "cell_type": "code",
   "execution_count": 146,
   "metadata": {},
   "outputs": [],
   "source": [
    "def hourly(x):\n",
    "    '''\n",
    "    Input: A numerical value\n",
    "    Output: The value divided by 24\n",
    "        \n",
    "    Example:\n",
    "    Input: 48\n",
    "    Output: 2.0\n",
    "    '''\n",
    "    return x/24\n",
    "    # your code here"
   ]
  },
  {
   "cell_type": "markdown",
   "metadata": {},
   "source": [
    "Apply this function to the columns `Iws`, `Is`, and `Ir`. Store this new dataframe in the variable `pm25_hourly`."
   ]
  },
  {
   "cell_type": "code",
   "execution_count": 147,
   "metadata": {},
   "outputs": [],
   "source": [
    "# your code here\n",
    "pm25_hourly = beijing_pollution[['Iws', 'Is', 'Ir']].apply(hourly)"
   ]
  },
  {
   "cell_type": "code",
   "execution_count": 148,
   "metadata": {},
   "outputs": [
    {
     "data": {
      "text/html": "<div>\n<style scoped>\n    .dataframe tbody tr th:only-of-type {\n        vertical-align: middle;\n    }\n\n    .dataframe tbody tr th {\n        vertical-align: top;\n    }\n\n    .dataframe thead th {\n        text-align: right;\n    }\n</style>\n<table border=\"1\" class=\"dataframe\">\n  <thead>\n    <tr style=\"text-align: right;\">\n      <th></th>\n      <th>Iws</th>\n      <th>Is</th>\n      <th>Ir</th>\n    </tr>\n  </thead>\n  <tbody>\n    <tr>\n      <th>0</th>\n      <td>0.074583</td>\n      <td>0.0</td>\n      <td>0.0</td>\n    </tr>\n    <tr>\n      <th>1</th>\n      <td>0.205000</td>\n      <td>0.0</td>\n      <td>0.0</td>\n    </tr>\n    <tr>\n      <th>2</th>\n      <td>0.279583</td>\n      <td>0.0</td>\n      <td>0.0</td>\n    </tr>\n    <tr>\n      <th>3</th>\n      <td>0.410000</td>\n      <td>0.0</td>\n      <td>0.0</td>\n    </tr>\n    <tr>\n      <th>4</th>\n      <td>0.540417</td>\n      <td>0.0</td>\n      <td>0.0</td>\n    </tr>\n  </tbody>\n</table>\n</div>",
      "text/plain": "        Iws   Is   Ir\n0  0.074583  0.0  0.0\n1  0.205000  0.0  0.0\n2  0.279583  0.0  0.0\n3  0.410000  0.0  0.0\n4  0.540417  0.0  0.0"
     },
     "execution_count": 148,
     "metadata": {},
     "output_type": "execute_result"
    }
   ],
   "source": [
    "pm25_hourly.head()"
   ]
  },
  {
   "cell_type": "markdown",
   "metadata": {},
   "source": [
    "#### Our last challenge will be to create an aggregate function and apply it to a select group of columns in our dataframe.\n",
    "\n",
    "Write a function that returns the standard deviation of a column divided by the length of a column minus 1. Since we are using pandas, do not use the `len()` function. One alternative is to use `count()`. Also, use the numpy version of standard deviation."
   ]
  },
  {
   "cell_type": "code",
   "execution_count": 153,
   "metadata": {},
   "outputs": [],
   "source": [
    "def sample_sd(x):\n",
    "    '''\n",
    "    Input: A Pandas series of values\n",
    "    Output: the standard deviation divided by the number of elements in the series\n",
    "        \n",
    "    Example:\n",
    "    Input: pd.Series([1,2,3,4])\n",
    "    Output: 0.3726779962\n",
    "    '''\n",
    "    return np.std(x) / (x.count()-1)\n",
    "    \n",
    "    # your code here"
   ]
  },
  {
   "cell_type": "code",
   "execution_count": 155,
   "metadata": {},
   "outputs": [
    {
     "data": {
      "text/plain": "Iws    4.754929e-05\nIs     7.229519e-07\nIr     1.346183e-06\ndtype: float64"
     },
     "execution_count": 155,
     "metadata": {},
     "output_type": "execute_result"
    }
   ],
   "source": [
    "sample_sd(pm25_hourly)\n"
   ]
  },
  {
   "cell_type": "code",
   "execution_count": null,
   "metadata": {},
   "outputs": [],
   "source": []
  }
 ],
 "metadata": {
  "kernelspec": {
   "display_name": "Python 3",
   "language": "python",
   "name": "python3"
  },
  "language_info": {
   "codemirror_mode": {
    "name": "ipython",
    "version": 3
   },
   "file_extension": ".py",
   "mimetype": "text/x-python",
   "name": "python",
   "nbconvert_exporter": "python",
   "pygments_lexer": "ipython3",
   "version": "3.7.4"
  }
 },
 "nbformat": 4,
 "nbformat_minor": 2
}