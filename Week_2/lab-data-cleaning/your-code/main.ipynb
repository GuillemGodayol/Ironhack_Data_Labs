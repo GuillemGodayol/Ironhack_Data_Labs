{
 "cells": [
  {
   "cell_type": "markdown",
   "metadata": {},
   "source": [
    "# Data Cleaning \n",
    "\n",
    "#### 1. Import pandas library."
   ]
  },
  {
   "cell_type": "code",
   "execution_count": 16,
   "metadata": {},
   "outputs": [],
   "source": [
    "import pandas as pd "
   ]
  },
  {
   "cell_type": "markdown",
   "metadata": {},
   "source": [
    "#### 2. Import pymysql and sqlalchemy as you have learnt in the lesson of importing/exporting data. \n"
   ]
  },
  {
   "cell_type": "code",
   "execution_count": 17,
   "metadata": {},
   "outputs": [],
   "source": [
    "import sqlalchemy\n",
    "import pymysql\n",
    "from sqlalchemy import create_engine"
   ]
  },
  {
   "cell_type": "markdown",
   "metadata": {},
   "source": [
    "#### 3. Create a mysql engine to set the connection to the server. Check the connection details in [this link](https://relational.fit.cvut.cz/dataset/Stats)."
   ]
  },
  {
   "cell_type": "code",
   "execution_count": 18,
   "metadata": {},
   "outputs": [],
   "source": [
    "driver = 'mysql+pymysql'\n",
    "ip = 'relational.fit.cvut.cz'\n",
    "username = 'guest'\n",
    "password = 'relational'\n",
    "db = 'stats'\n",
    "connection_string  = f'{driver}://{username}:{password}@{ip}/{db}'"
   ]
  },
  {
   "cell_type": "markdown",
   "metadata": {},
   "source": [
    "#### 4. Import the users table."
   ]
  },
  {
   "cell_type": "code",
   "execution_count": 19,
   "metadata": {},
   "outputs": [
    {
     "data": {
      "text/html": "<div>\n<style scoped>\n    .dataframe tbody tr th:only-of-type {\n        vertical-align: middle;\n    }\n\n    .dataframe tbody tr th {\n        vertical-align: top;\n    }\n\n    .dataframe thead th {\n        text-align: right;\n    }\n</style>\n<table border=\"1\" class=\"dataframe\">\n  <thead>\n    <tr style=\"text-align: right;\">\n      <th></th>\n      <th>Id</th>\n      <th>Reputation</th>\n      <th>CreationDate</th>\n      <th>DisplayName</th>\n      <th>LastAccessDate</th>\n      <th>WebsiteUrl</th>\n      <th>Location</th>\n      <th>AboutMe</th>\n      <th>Views</th>\n      <th>UpVotes</th>\n      <th>DownVotes</th>\n      <th>AccountId</th>\n      <th>Age</th>\n      <th>ProfileImageUrl</th>\n    </tr>\n  </thead>\n  <tbody>\n    <tr>\n      <th>0</th>\n      <td>-1</td>\n      <td>1</td>\n      <td>2010-07-19 06:55:26</td>\n      <td>Community</td>\n      <td>2010-07-19 06:55:26</td>\n      <td>http://meta.stackexchange.com/</td>\n      <td>on the server farm</td>\n      <td>&lt;p&gt;Hi, I'm not really a person.&lt;/p&gt;\\n\\n&lt;p&gt;I'm ...</td>\n      <td>0</td>\n      <td>5007</td>\n      <td>1920</td>\n      <td>-1</td>\n      <td>NaN</td>\n      <td>None</td>\n    </tr>\n    <tr>\n      <th>1</th>\n      <td>2</td>\n      <td>101</td>\n      <td>2010-07-19 14:01:36</td>\n      <td>Geoff Dalgas</td>\n      <td>2013-11-12 22:07:23</td>\n      <td>http://stackoverflow.com</td>\n      <td>Corvallis, OR</td>\n      <td>&lt;p&gt;Developer on the StackOverflow team.  Find ...</td>\n      <td>25</td>\n      <td>3</td>\n      <td>0</td>\n      <td>2</td>\n      <td>37.0</td>\n      <td>None</td>\n    </tr>\n    <tr>\n      <th>2</th>\n      <td>3</td>\n      <td>101</td>\n      <td>2010-07-19 15:34:50</td>\n      <td>Jarrod Dixon</td>\n      <td>2014-08-08 06:42:58</td>\n      <td>http://stackoverflow.com</td>\n      <td>New York, NY</td>\n      <td>&lt;p&gt;&lt;a href=\"http://blog.stackoverflow.com/2009...</td>\n      <td>22</td>\n      <td>19</td>\n      <td>0</td>\n      <td>3</td>\n      <td>35.0</td>\n      <td>None</td>\n    </tr>\n    <tr>\n      <th>3</th>\n      <td>4</td>\n      <td>101</td>\n      <td>2010-07-19 19:03:27</td>\n      <td>Emmett</td>\n      <td>2014-01-02 09:31:02</td>\n      <td>http://minesweeperonline.com</td>\n      <td>San Francisco, CA</td>\n      <td>&lt;p&gt;currently at a startup in SF&lt;/p&gt;\\n\\n&lt;p&gt;form...</td>\n      <td>11</td>\n      <td>0</td>\n      <td>0</td>\n      <td>1998</td>\n      <td>28.0</td>\n      <td>http://i.stack.imgur.com/d1oHX.jpg</td>\n    </tr>\n    <tr>\n      <th>4</th>\n      <td>5</td>\n      <td>6792</td>\n      <td>2010-07-19 19:03:57</td>\n      <td>Shane</td>\n      <td>2014-08-13 00:23:47</td>\n      <td>http://www.statalgo.com</td>\n      <td>New York, NY</td>\n      <td>&lt;p&gt;Quantitative researcher focusing on statist...</td>\n      <td>1145</td>\n      <td>662</td>\n      <td>5</td>\n      <td>54503</td>\n      <td>35.0</td>\n      <td>None</td>\n    </tr>\n    <tr>\n      <th>...</th>\n      <td>...</td>\n      <td>...</td>\n      <td>...</td>\n      <td>...</td>\n      <td>...</td>\n      <td>...</td>\n      <td>...</td>\n      <td>...</td>\n      <td>...</td>\n      <td>...</td>\n      <td>...</td>\n      <td>...</td>\n      <td>...</td>\n      <td>...</td>\n    </tr>\n    <tr>\n      <th>40320</th>\n      <td>55743</td>\n      <td>1</td>\n      <td>2014-09-13 21:03:50</td>\n      <td>AussieMeg</td>\n      <td>2014-09-13 21:18:52</td>\n      <td>None</td>\n      <td>None</td>\n      <td>None</td>\n      <td>0</td>\n      <td>0</td>\n      <td>0</td>\n      <td>5026902</td>\n      <td>NaN</td>\n      <td>http://graph.facebook.com/665821703/picture?ty...</td>\n    </tr>\n    <tr>\n      <th>40321</th>\n      <td>55744</td>\n      <td>6</td>\n      <td>2014-09-13 21:39:30</td>\n      <td>Mia Maria</td>\n      <td>2014-09-13 21:39:30</td>\n      <td>None</td>\n      <td>None</td>\n      <td>None</td>\n      <td>1</td>\n      <td>0</td>\n      <td>0</td>\n      <td>5026998</td>\n      <td>NaN</td>\n      <td>None</td>\n    </tr>\n    <tr>\n      <th>40322</th>\n      <td>55745</td>\n      <td>101</td>\n      <td>2014-09-13 23:45:27</td>\n      <td>tronbabylove</td>\n      <td>2014-09-13 23:45:27</td>\n      <td>None</td>\n      <td>United States</td>\n      <td>None</td>\n      <td>0</td>\n      <td>0</td>\n      <td>0</td>\n      <td>481766</td>\n      <td>NaN</td>\n      <td>https://www.gravatar.com/avatar/faa7a3fdbd8308...</td>\n    </tr>\n    <tr>\n      <th>40323</th>\n      <td>55746</td>\n      <td>106</td>\n      <td>2014-09-14 00:29:41</td>\n      <td>GPP</td>\n      <td>2014-09-14 02:05:17</td>\n      <td>None</td>\n      <td>None</td>\n      <td>&lt;p&gt;Stats noobie, product, marketing &amp;amp; medi...</td>\n      <td>1</td>\n      <td>0</td>\n      <td>0</td>\n      <td>976289</td>\n      <td>NaN</td>\n      <td>https://www.gravatar.com/avatar/6d9e9fa6b783a3...</td>\n    </tr>\n    <tr>\n      <th>40324</th>\n      <td>55747</td>\n      <td>1</td>\n      <td>2014-09-14 01:01:44</td>\n      <td>Shivam Agrawal</td>\n      <td>2014-09-14 01:19:04</td>\n      <td>None</td>\n      <td>India</td>\n      <td>&lt;p&gt;Maths Enthusiast &lt;/p&gt;\\n</td>\n      <td>0</td>\n      <td>0</td>\n      <td>0</td>\n      <td>5027354</td>\n      <td>NaN</td>\n      <td>https://lh4.googleusercontent.com/-ZsXhwVaFmiY...</td>\n    </tr>\n  </tbody>\n</table>\n<p>40325 rows × 14 columns</p>\n</div>",
      "text/plain": "          Id  Reputation        CreationDate     DisplayName  \\\n0         -1           1 2010-07-19 06:55:26       Community   \n1          2         101 2010-07-19 14:01:36    Geoff Dalgas   \n2          3         101 2010-07-19 15:34:50    Jarrod Dixon   \n3          4         101 2010-07-19 19:03:27          Emmett   \n4          5        6792 2010-07-19 19:03:57           Shane   \n...      ...         ...                 ...             ...   \n40320  55743           1 2014-09-13 21:03:50       AussieMeg   \n40321  55744           6 2014-09-13 21:39:30       Mia Maria   \n40322  55745         101 2014-09-13 23:45:27    tronbabylove   \n40323  55746         106 2014-09-14 00:29:41             GPP   \n40324  55747           1 2014-09-14 01:01:44  Shivam Agrawal   \n\n           LastAccessDate                      WebsiteUrl            Location  \\\n0     2010-07-19 06:55:26  http://meta.stackexchange.com/  on the server farm   \n1     2013-11-12 22:07:23        http://stackoverflow.com       Corvallis, OR   \n2     2014-08-08 06:42:58        http://stackoverflow.com        New York, NY   \n3     2014-01-02 09:31:02    http://minesweeperonline.com   San Francisco, CA   \n4     2014-08-13 00:23:47         http://www.statalgo.com        New York, NY   \n...                   ...                             ...                 ...   \n40320 2014-09-13 21:18:52                            None                None   \n40321 2014-09-13 21:39:30                            None                None   \n40322 2014-09-13 23:45:27                            None       United States   \n40323 2014-09-14 02:05:17                            None                None   \n40324 2014-09-14 01:19:04                            None               India   \n\n                                                 AboutMe  Views  UpVotes  \\\n0      <p>Hi, I'm not really a person.</p>\\n\\n<p>I'm ...      0     5007   \n1      <p>Developer on the StackOverflow team.  Find ...     25        3   \n2      <p><a href=\"http://blog.stackoverflow.com/2009...     22       19   \n3      <p>currently at a startup in SF</p>\\n\\n<p>form...     11        0   \n4      <p>Quantitative researcher focusing on statist...   1145      662   \n...                                                  ...    ...      ...   \n40320                                               None      0        0   \n40321                                               None      1        0   \n40322                                               None      0        0   \n40323  <p>Stats noobie, product, marketing &amp; medi...      1        0   \n40324                         <p>Maths Enthusiast </p>\\n      0        0   \n\n       DownVotes  AccountId   Age  \\\n0           1920         -1   NaN   \n1              0          2  37.0   \n2              0          3  35.0   \n3              0       1998  28.0   \n4              5      54503  35.0   \n...          ...        ...   ...   \n40320          0    5026902   NaN   \n40321          0    5026998   NaN   \n40322          0     481766   NaN   \n40323          0     976289   NaN   \n40324          0    5027354   NaN   \n\n                                         ProfileImageUrl  \n0                                                   None  \n1                                                   None  \n2                                                   None  \n3                     http://i.stack.imgur.com/d1oHX.jpg  \n4                                                   None  \n...                                                  ...  \n40320  http://graph.facebook.com/665821703/picture?ty...  \n40321                                               None  \n40322  https://www.gravatar.com/avatar/faa7a3fdbd8308...  \n40323  https://www.gravatar.com/avatar/6d9e9fa6b783a3...  \n40324  https://lh4.googleusercontent.com/-ZsXhwVaFmiY...  \n\n[40325 rows x 14 columns]"
     },
     "execution_count": 19,
     "metadata": {},
     "output_type": "execute_result"
    }
   ],
   "source": [
    "engine = create_engine(connection_string)\n",
    "query = 'SELECT * FROM users'\n",
    "users = pd.read_sql(query,engine)\n",
    "users"
   ]
  },
  {
   "cell_type": "markdown",
   "metadata": {},
   "source": [
    "#### 5. Rename Id column to userId."
   ]
  },
  {
   "cell_type": "code",
   "execution_count": 25,
   "metadata": {},
   "outputs": [],
   "source": [
    "users.rename(columns = {'Id':'userId'}, inplace = True)"
   ]
  },
  {
   "cell_type": "markdown",
   "metadata": {},
   "source": [
    "#### 6. Import the posts table. "
   ]
  },
  {
   "cell_type": "code",
   "execution_count": 21,
   "metadata": {},
   "outputs": [
    {
     "data": {
      "text/html": "<div>\n<style scoped>\n    .dataframe tbody tr th:only-of-type {\n        vertical-align: middle;\n    }\n\n    .dataframe tbody tr th {\n        vertical-align: top;\n    }\n\n    .dataframe thead th {\n        text-align: right;\n    }\n</style>\n<table border=\"1\" class=\"dataframe\">\n  <thead>\n    <tr style=\"text-align: right;\">\n      <th></th>\n      <th>Id</th>\n      <th>PostTypeId</th>\n      <th>AcceptedAnswerId</th>\n      <th>CreaionDate</th>\n      <th>Score</th>\n      <th>ViewCount</th>\n      <th>Body</th>\n      <th>OwnerUserId</th>\n      <th>LasActivityDate</th>\n      <th>Title</th>\n      <th>...</th>\n      <th>AnswerCount</th>\n      <th>CommentCount</th>\n      <th>FavoriteCount</th>\n      <th>LastEditorUserId</th>\n      <th>LastEditDate</th>\n      <th>CommunityOwnedDate</th>\n      <th>ParentId</th>\n      <th>ClosedDate</th>\n      <th>OwnerDisplayName</th>\n      <th>LastEditorDisplayName</th>\n    </tr>\n  </thead>\n  <tbody>\n    <tr>\n      <th>0</th>\n      <td>1</td>\n      <td>1</td>\n      <td>15.0</td>\n      <td>2010-07-19 19:12:12</td>\n      <td>23</td>\n      <td>1278.0</td>\n      <td>&lt;p&gt;How should I elicit prior distributions fro...</td>\n      <td>8.0</td>\n      <td>2010-09-15 21:08:26</td>\n      <td>Eliciting priors from experts</td>\n      <td>...</td>\n      <td>5.0</td>\n      <td>1</td>\n      <td>14.0</td>\n      <td>NaN</td>\n      <td>NaT</td>\n      <td>NaT</td>\n      <td>NaN</td>\n      <td>NaT</td>\n      <td>None</td>\n      <td>None</td>\n    </tr>\n    <tr>\n      <th>1</th>\n      <td>2</td>\n      <td>1</td>\n      <td>59.0</td>\n      <td>2010-07-19 19:12:57</td>\n      <td>22</td>\n      <td>8198.0</td>\n      <td>&lt;p&gt;In many different statistical methods there...</td>\n      <td>24.0</td>\n      <td>2012-11-12 09:21:54</td>\n      <td>What is normality?</td>\n      <td>...</td>\n      <td>7.0</td>\n      <td>1</td>\n      <td>8.0</td>\n      <td>88.0</td>\n      <td>2010-08-07 17:56:44</td>\n      <td>NaT</td>\n      <td>NaN</td>\n      <td>NaT</td>\n      <td>None</td>\n      <td>None</td>\n    </tr>\n    <tr>\n      <th>2</th>\n      <td>3</td>\n      <td>1</td>\n      <td>5.0</td>\n      <td>2010-07-19 19:13:28</td>\n      <td>54</td>\n      <td>3613.0</td>\n      <td>&lt;p&gt;What are some valuable Statistical Analysis...</td>\n      <td>18.0</td>\n      <td>2013-05-27 14:48:36</td>\n      <td>What are some valuable Statistical Analysis op...</td>\n      <td>...</td>\n      <td>19.0</td>\n      <td>4</td>\n      <td>36.0</td>\n      <td>183.0</td>\n      <td>2011-02-12 05:50:03</td>\n      <td>2010-07-19 19:13:28</td>\n      <td>NaN</td>\n      <td>NaT</td>\n      <td>None</td>\n      <td>None</td>\n    </tr>\n    <tr>\n      <th>3</th>\n      <td>4</td>\n      <td>1</td>\n      <td>135.0</td>\n      <td>2010-07-19 19:13:31</td>\n      <td>13</td>\n      <td>5224.0</td>\n      <td>&lt;p&gt;I have two groups of data.  Each with a dif...</td>\n      <td>23.0</td>\n      <td>2010-09-08 03:00:19</td>\n      <td>Assessing the significance of differences in d...</td>\n      <td>...</td>\n      <td>5.0</td>\n      <td>2</td>\n      <td>2.0</td>\n      <td>NaN</td>\n      <td>NaT</td>\n      <td>NaT</td>\n      <td>NaN</td>\n      <td>NaT</td>\n      <td>None</td>\n      <td>None</td>\n    </tr>\n    <tr>\n      <th>4</th>\n      <td>5</td>\n      <td>2</td>\n      <td>NaN</td>\n      <td>2010-07-19 19:14:43</td>\n      <td>81</td>\n      <td>NaN</td>\n      <td>&lt;p&gt;The R-project&lt;/p&gt;\\n\\n&lt;p&gt;&lt;a href=\"http://www...</td>\n      <td>23.0</td>\n      <td>2010-07-19 19:21:15</td>\n      <td>None</td>\n      <td>...</td>\n      <td>NaN</td>\n      <td>3</td>\n      <td>NaN</td>\n      <td>23.0</td>\n      <td>2010-07-19 19:21:15</td>\n      <td>2010-07-19 19:14:43</td>\n      <td>3.0</td>\n      <td>NaT</td>\n      <td>None</td>\n      <td>None</td>\n    </tr>\n    <tr>\n      <th>...</th>\n      <td>...</td>\n      <td>...</td>\n      <td>...</td>\n      <td>...</td>\n      <td>...</td>\n      <td>...</td>\n      <td>...</td>\n      <td>...</td>\n      <td>...</td>\n      <td>...</td>\n      <td>...</td>\n      <td>...</td>\n      <td>...</td>\n      <td>...</td>\n      <td>...</td>\n      <td>...</td>\n      <td>...</td>\n      <td>...</td>\n      <td>...</td>\n      <td>...</td>\n      <td>...</td>\n    </tr>\n    <tr>\n      <th>91971</th>\n      <td>115374</td>\n      <td>2</td>\n      <td>NaN</td>\n      <td>2014-09-13 23:45:39</td>\n      <td>2</td>\n      <td>NaN</td>\n      <td>&lt;p&gt;This grew too long for a comment, but I thi...</td>\n      <td>805.0</td>\n      <td>2014-09-14 02:05:41</td>\n      <td>None</td>\n      <td>...</td>\n      <td>NaN</td>\n      <td>2</td>\n      <td>NaN</td>\n      <td>805.0</td>\n      <td>2014-09-14 02:05:41</td>\n      <td>NaT</td>\n      <td>115367.0</td>\n      <td>NaT</td>\n      <td>None</td>\n      <td>None</td>\n    </tr>\n    <tr>\n      <th>91972</th>\n      <td>115375</td>\n      <td>1</td>\n      <td>NaN</td>\n      <td>2014-09-13 23:46:05</td>\n      <td>0</td>\n      <td>9.0</td>\n      <td>&lt;p&gt;Assume a classification problem where there...</td>\n      <td>49365.0</td>\n      <td>2014-09-14 02:09:23</td>\n      <td>Detecting a consistent pattern in a dataset vi...</td>\n      <td>...</td>\n      <td>1.0</td>\n      <td>0</td>\n      <td>NaN</td>\n      <td>NaN</td>\n      <td>NaT</td>\n      <td>NaT</td>\n      <td>NaN</td>\n      <td>NaT</td>\n      <td>None</td>\n      <td>None</td>\n    </tr>\n    <tr>\n      <th>91973</th>\n      <td>115376</td>\n      <td>1</td>\n      <td>NaN</td>\n      <td>2014-09-14 01:27:54</td>\n      <td>1</td>\n      <td>5.0</td>\n      <td>&lt;p&gt;My goal is to create a formula that can giv...</td>\n      <td>55746.0</td>\n      <td>2014-09-14 01:40:55</td>\n      <td>How to project video viewcount based on histor...</td>\n      <td>...</td>\n      <td>0.0</td>\n      <td>2</td>\n      <td>NaN</td>\n      <td>7290.0</td>\n      <td>2014-09-14 01:40:55</td>\n      <td>NaT</td>\n      <td>NaN</td>\n      <td>NaT</td>\n      <td>None</td>\n      <td>None</td>\n    </tr>\n    <tr>\n      <th>91974</th>\n      <td>115377</td>\n      <td>2</td>\n      <td>NaN</td>\n      <td>2014-09-14 02:03:28</td>\n      <td>0</td>\n      <td>NaN</td>\n      <td>&lt;p&gt;As a practical answer to the real questions...</td>\n      <td>805.0</td>\n      <td>2014-09-14 02:54:13</td>\n      <td>None</td>\n      <td>...</td>\n      <td>NaN</td>\n      <td>0</td>\n      <td>NaN</td>\n      <td>805.0</td>\n      <td>2014-09-14 02:54:13</td>\n      <td>NaT</td>\n      <td>115358.0</td>\n      <td>NaT</td>\n      <td>None</td>\n      <td>None</td>\n    </tr>\n    <tr>\n      <th>91975</th>\n      <td>115378</td>\n      <td>2</td>\n      <td>NaN</td>\n      <td>2014-09-14 02:09:23</td>\n      <td>0</td>\n      <td>NaN</td>\n      <td>&lt;p&gt;Decision trees are notoriously &lt;strong&gt;unst...</td>\n      <td>7250.0</td>\n      <td>2014-09-14 02:09:23</td>\n      <td>None</td>\n      <td>...</td>\n      <td>NaN</td>\n      <td>0</td>\n      <td>NaN</td>\n      <td>NaN</td>\n      <td>NaT</td>\n      <td>NaT</td>\n      <td>115375.0</td>\n      <td>NaT</td>\n      <td>None</td>\n      <td>None</td>\n    </tr>\n  </tbody>\n</table>\n<p>91976 rows × 21 columns</p>\n</div>",
      "text/plain": "           Id  PostTypeId  AcceptedAnswerId         CreaionDate  Score  \\\n0           1           1              15.0 2010-07-19 19:12:12     23   \n1           2           1              59.0 2010-07-19 19:12:57     22   \n2           3           1               5.0 2010-07-19 19:13:28     54   \n3           4           1             135.0 2010-07-19 19:13:31     13   \n4           5           2               NaN 2010-07-19 19:14:43     81   \n...       ...         ...               ...                 ...    ...   \n91971  115374           2               NaN 2014-09-13 23:45:39      2   \n91972  115375           1               NaN 2014-09-13 23:46:05      0   \n91973  115376           1               NaN 2014-09-14 01:27:54      1   \n91974  115377           2               NaN 2014-09-14 02:03:28      0   \n91975  115378           2               NaN 2014-09-14 02:09:23      0   \n\n       ViewCount                                               Body  \\\n0         1278.0  <p>How should I elicit prior distributions fro...   \n1         8198.0  <p>In many different statistical methods there...   \n2         3613.0  <p>What are some valuable Statistical Analysis...   \n3         5224.0  <p>I have two groups of data.  Each with a dif...   \n4            NaN  <p>The R-project</p>\\n\\n<p><a href=\"http://www...   \n...          ...                                                ...   \n91971        NaN  <p>This grew too long for a comment, but I thi...   \n91972        9.0  <p>Assume a classification problem where there...   \n91973        5.0  <p>My goal is to create a formula that can giv...   \n91974        NaN  <p>As a practical answer to the real questions...   \n91975        NaN  <p>Decision trees are notoriously <strong>unst...   \n\n       OwnerUserId     LasActivityDate  \\\n0              8.0 2010-09-15 21:08:26   \n1             24.0 2012-11-12 09:21:54   \n2             18.0 2013-05-27 14:48:36   \n3             23.0 2010-09-08 03:00:19   \n4             23.0 2010-07-19 19:21:15   \n...            ...                 ...   \n91971        805.0 2014-09-14 02:05:41   \n91972      49365.0 2014-09-14 02:09:23   \n91973      55746.0 2014-09-14 01:40:55   \n91974        805.0 2014-09-14 02:54:13   \n91975       7250.0 2014-09-14 02:09:23   \n\n                                                   Title  ... AnswerCount  \\\n0                          Eliciting priors from experts  ...         5.0   \n1                                     What is normality?  ...         7.0   \n2      What are some valuable Statistical Analysis op...  ...        19.0   \n3      Assessing the significance of differences in d...  ...         5.0   \n4                                                   None  ...         NaN   \n...                                                  ...  ...         ...   \n91971                                               None  ...         NaN   \n91972  Detecting a consistent pattern in a dataset vi...  ...         1.0   \n91973  How to project video viewcount based on histor...  ...         0.0   \n91974                                               None  ...         NaN   \n91975                                               None  ...         NaN   \n\n       CommentCount  FavoriteCount  LastEditorUserId        LastEditDate  \\\n0                 1           14.0               NaN                 NaT   \n1                 1            8.0              88.0 2010-08-07 17:56:44   \n2                 4           36.0             183.0 2011-02-12 05:50:03   \n3                 2            2.0               NaN                 NaT   \n4                 3            NaN              23.0 2010-07-19 19:21:15   \n...             ...            ...               ...                 ...   \n91971             2            NaN             805.0 2014-09-14 02:05:41   \n91972             0            NaN               NaN                 NaT   \n91973             2            NaN            7290.0 2014-09-14 01:40:55   \n91974             0            NaN             805.0 2014-09-14 02:54:13   \n91975             0            NaN               NaN                 NaT   \n\n       CommunityOwnedDate  ParentId  ClosedDate OwnerDisplayName  \\\n0                     NaT       NaN         NaT             None   \n1                     NaT       NaN         NaT             None   \n2     2010-07-19 19:13:28       NaN         NaT             None   \n3                     NaT       NaN         NaT             None   \n4     2010-07-19 19:14:43       3.0         NaT             None   \n...                   ...       ...         ...              ...   \n91971                 NaT  115367.0         NaT             None   \n91972                 NaT       NaN         NaT             None   \n91973                 NaT       NaN         NaT             None   \n91974                 NaT  115358.0         NaT             None   \n91975                 NaT  115375.0         NaT             None   \n\n      LastEditorDisplayName  \n0                      None  \n1                      None  \n2                      None  \n3                      None  \n4                      None  \n...                     ...  \n91971                  None  \n91972                  None  \n91973                  None  \n91974                  None  \n91975                  None  \n\n[91976 rows x 21 columns]"
     },
     "execution_count": 21,
     "metadata": {},
     "output_type": "execute_result"
    }
   ],
   "source": [
    "engine = create_engine(connection_string)\n",
    "query = 'SELECT * FROM posts'\n",
    "posts = pd.read_sql(query,engine)\n",
    "posts"
   ]
  },
  {
   "cell_type": "markdown",
   "metadata": {},
   "source": [
    "#### 7. Rename Id column to postId and OwnerUserId to userId."
   ]
  },
  {
   "cell_type": "code",
   "execution_count": 29,
   "metadata": {},
   "outputs": [],
   "source": [
    "posts.rename(columns = {'Id':'postId', 'OwnerUserId':'userId'}, inplace = True)"
   ]
  },
  {
   "cell_type": "markdown",
   "metadata": {},
   "source": [
    "#### 8. Define new dataframes for users and posts with the following selected columns:\n",
    "**users columns**: userId, Reputation, Views, UpVotes, DownVotes  \n",
    "**posts columns**: postId, Score, userID, ViewCount, CommentCount"
   ]
  },
  {
   "cell_type": "code",
   "execution_count": 36,
   "metadata": {},
   "outputs": [
    {
     "data": {
      "text/html": "<div>\n<style scoped>\n    .dataframe tbody tr th:only-of-type {\n        vertical-align: middle;\n    }\n\n    .dataframe tbody tr th {\n        vertical-align: top;\n    }\n\n    .dataframe thead th {\n        text-align: right;\n    }\n</style>\n<table border=\"1\" class=\"dataframe\">\n  <thead>\n    <tr style=\"text-align: right;\">\n      <th></th>\n      <th>userId</th>\n      <th>Reputation</th>\n      <th>Views</th>\n      <th>UpVotes</th>\n      <th>DownVotes</th>\n    </tr>\n  </thead>\n  <tbody>\n    <tr>\n      <th>0</th>\n      <td>-1</td>\n      <td>1</td>\n      <td>0</td>\n      <td>5007</td>\n      <td>1920</td>\n    </tr>\n    <tr>\n      <th>1</th>\n      <td>2</td>\n      <td>101</td>\n      <td>25</td>\n      <td>3</td>\n      <td>0</td>\n    </tr>\n    <tr>\n      <th>2</th>\n      <td>3</td>\n      <td>101</td>\n      <td>22</td>\n      <td>19</td>\n      <td>0</td>\n    </tr>\n    <tr>\n      <th>3</th>\n      <td>4</td>\n      <td>101</td>\n      <td>11</td>\n      <td>0</td>\n      <td>0</td>\n    </tr>\n    <tr>\n      <th>4</th>\n      <td>5</td>\n      <td>6792</td>\n      <td>1145</td>\n      <td>662</td>\n      <td>5</td>\n    </tr>\n  </tbody>\n</table>\n</div>",
      "text/plain": "   userId  Reputation  Views  UpVotes  DownVotes\n0      -1           1      0     5007       1920\n1       2         101     25        3          0\n2       3         101     22       19          0\n3       4         101     11        0          0\n4       5        6792   1145      662          5"
     },
     "execution_count": 36,
     "metadata": {},
     "output_type": "execute_result"
    }
   ],
   "source": [
    "new_users = users[['userId', 'Reputation',  'Views', 'UpVotes', 'DownVotes']].copy()\n",
    "new_posts = posts[['postId', 'Score', 'userId', 'ViewCount', 'CommentCount']].copy()\n",
    "new_users.head()"
   ]
  },
  {
   "cell_type": "code",
   "execution_count": 35,
   "metadata": {},
   "outputs": [
    {
     "data": {
      "text/html": "<div>\n<style scoped>\n    .dataframe tbody tr th:only-of-type {\n        vertical-align: middle;\n    }\n\n    .dataframe tbody tr th {\n        vertical-align: top;\n    }\n\n    .dataframe thead th {\n        text-align: right;\n    }\n</style>\n<table border=\"1\" class=\"dataframe\">\n  <thead>\n    <tr style=\"text-align: right;\">\n      <th></th>\n      <th>postId</th>\n      <th>Score</th>\n      <th>userId</th>\n      <th>ViewCount</th>\n      <th>CommentCount</th>\n    </tr>\n  </thead>\n  <tbody>\n    <tr>\n      <th>0</th>\n      <td>1</td>\n      <td>23</td>\n      <td>8.0</td>\n      <td>1278.0</td>\n      <td>1</td>\n    </tr>\n    <tr>\n      <th>1</th>\n      <td>2</td>\n      <td>22</td>\n      <td>24.0</td>\n      <td>8198.0</td>\n      <td>1</td>\n    </tr>\n    <tr>\n      <th>2</th>\n      <td>3</td>\n      <td>54</td>\n      <td>18.0</td>\n      <td>3613.0</td>\n      <td>4</td>\n    </tr>\n    <tr>\n      <th>3</th>\n      <td>4</td>\n      <td>13</td>\n      <td>23.0</td>\n      <td>5224.0</td>\n      <td>2</td>\n    </tr>\n    <tr>\n      <th>4</th>\n      <td>5</td>\n      <td>81</td>\n      <td>23.0</td>\n      <td>NaN</td>\n      <td>3</td>\n    </tr>\n  </tbody>\n</table>\n</div>",
      "text/plain": "   postId  Score  userId  ViewCount  CommentCount\n0       1     23     8.0     1278.0             1\n1       2     22    24.0     8198.0             1\n2       3     54    18.0     3613.0             4\n3       4     13    23.0     5224.0             2\n4       5     81    23.0        NaN             3"
     },
     "execution_count": 35,
     "metadata": {},
     "output_type": "execute_result"
    }
   ],
   "source": [
    "new_posts.head()"
   ]
  },
  {
   "cell_type": "markdown",
   "metadata": {},
   "source": [
    "#### 8. Merge both dataframes, users and posts. \n",
    "You will need to make a [merge](https://pandas.pydata.org/pandas-docs/stable/generated/pandas.DataFrame.merge.html) of posts and users dataframes."
   ]
  },
  {
   "cell_type": "code",
   "execution_count": 39,
   "metadata": {},
   "outputs": [],
   "source": [
    "merged = new_users.merge(new_posts)"
   ]
  },
  {
   "cell_type": "markdown",
   "metadata": {},
   "source": [
    "#### 9. How many missing values do you have in your merged dataframe? On which columns?"
   ]
  },
  {
   "cell_type": "code",
   "execution_count": 61,
   "metadata": {},
   "outputs": [
    {
     "data": {
      "text/plain": "userId              0\nReputation          0\nViews               0\nUpVotes             0\nDownVotes           0\npostId              0\nScore               0\nViewCount       48396\nCommentCount        0\ndtype: int64"
     },
     "execution_count": 61,
     "metadata": {},
     "output_type": "execute_result"
    }
   ],
   "source": [
    "# we apply isna() function to get all the NaN values. And at the same time, we sum it to get the whole picture and the columns affected.\n",
    "merged.isna().sum()"
   ]
  },
  {
   "cell_type": "markdown",
   "metadata": {},
   "source": [
    "#### 10. You will need to make something with missing values.  Will you clean or filling them? Explain. \n",
    "**Remember** to check the results of your code before going to the next step."
   ]
  },
  {
   "cell_type": "code",
   "execution_count": 63,
   "metadata": {},
   "outputs": [
    {
     "data": {
      "text/html": "<div>\n<style scoped>\n    .dataframe tbody tr th:only-of-type {\n        vertical-align: middle;\n    }\n\n    .dataframe tbody tr th {\n        vertical-align: top;\n    }\n\n    .dataframe thead th {\n        text-align: right;\n    }\n</style>\n<table border=\"1\" class=\"dataframe\">\n  <thead>\n    <tr style=\"text-align: right;\">\n      <th></th>\n      <th>userId</th>\n      <th>Reputation</th>\n      <th>Views</th>\n      <th>UpVotes</th>\n      <th>DownVotes</th>\n      <th>postId</th>\n      <th>Score</th>\n      <th>ViewCount</th>\n      <th>CommentCount</th>\n    </tr>\n  </thead>\n  <tbody>\n    <tr>\n      <th>0</th>\n      <td>-1</td>\n      <td>1</td>\n      <td>0</td>\n      <td>5007</td>\n      <td>1920</td>\n      <td>2175</td>\n      <td>0</td>\n      <td>NaN</td>\n      <td>0</td>\n    </tr>\n    <tr>\n      <th>1</th>\n      <td>-1</td>\n      <td>1</td>\n      <td>0</td>\n      <td>5007</td>\n      <td>1920</td>\n      <td>8576</td>\n      <td>0</td>\n      <td>NaN</td>\n      <td>0</td>\n    </tr>\n    <tr>\n      <th>2</th>\n      <td>-1</td>\n      <td>1</td>\n      <td>0</td>\n      <td>5007</td>\n      <td>1920</td>\n      <td>8578</td>\n      <td>0</td>\n      <td>NaN</td>\n      <td>0</td>\n    </tr>\n    <tr>\n      <th>3</th>\n      <td>-1</td>\n      <td>1</td>\n      <td>0</td>\n      <td>5007</td>\n      <td>1920</td>\n      <td>8981</td>\n      <td>0</td>\n      <td>NaN</td>\n      <td>0</td>\n    </tr>\n    <tr>\n      <th>4</th>\n      <td>-1</td>\n      <td>1</td>\n      <td>0</td>\n      <td>5007</td>\n      <td>1920</td>\n      <td>8982</td>\n      <td>0</td>\n      <td>NaN</td>\n      <td>0</td>\n    </tr>\n  </tbody>\n</table>\n</div>",
      "text/plain": "   userId  Reputation  Views  UpVotes  DownVotes  postId  Score  ViewCount  \\\n0      -1           1      0     5007       1920    2175      0        NaN   \n1      -1           1      0     5007       1920    8576      0        NaN   \n2      -1           1      0     5007       1920    8578      0        NaN   \n3      -1           1      0     5007       1920    8981      0        NaN   \n4      -1           1      0     5007       1920    8982      0        NaN   \n\n   CommentCount  \n0             0  \n1             0  \n2             0  \n3             0  \n4             0  "
     },
     "execution_count": 63,
     "metadata": {},
     "output_type": "execute_result"
    }
   ],
   "source": [
    "merged.head()\n",
    "\n",
    "# the NaN values in the ViewCount probably are because the number of views for that post has not been registered properly, that could indicate that the post hasn't been viewed yet. Due to this, I will fill nan with 0. "
   ]
  },
  {
   "cell_type": "code",
   "execution_count": 69,
   "metadata": {},
   "outputs": [],
   "source": [
    "merged.fillna(value=0, inplace=True)"
   ]
  },
  {
   "cell_type": "markdown",
   "metadata": {},
   "source": [
    "#### 11. Adjust the data types in order to avoid future issues. Which ones should be changed? "
   ]
  },
  {
   "cell_type": "code",
   "execution_count": 65,
   "metadata": {},
   "outputs": [],
   "source": [
    "# As the number of views will always be an integer, I will transform the type of ViewCount to int64.True\n",
    "\n",
    "# But, we need to take into account that we had an issue in more than 50% of this values, that there were empty or 'Nan', which means 'Not a Number'. So, in my opinion, we need to change the input type for the data to a string in order to get the data and then think about what to do with it."
   ]
  },
  {
   "cell_type": "code",
   "execution_count": 72,
   "metadata": {},
   "outputs": [
    {
     "data": {
      "text/plain": "0         0\n1         0\n2         0\n3         0\n4         0\n         ..\n90579    16\n90580    40\n90581    17\n90582    13\n90583     5\nName: ViewCount, Length: 90584, dtype: int64"
     },
     "execution_count": 72,
     "metadata": {},
     "output_type": "execute_result"
    }
   ],
   "source": [
    "merged['ViewCount'].astype(dtype = 'int64')"
   ]
  },
  {
   "cell_type": "code",
   "execution_count": null,
   "metadata": {},
   "outputs": [],
   "source": []
  }
 ],
 "metadata": {
  "kernelspec": {
   "display_name": "Python 3",
   "language": "python",
   "name": "python3"
  },
  "language_info": {
   "codemirror_mode": {
    "name": "ipython",
    "version": 3
   },
   "file_extension": ".py",
   "mimetype": "text/x-python",
   "name": "python",
   "nbconvert_exporter": "python",
   "pygments_lexer": "ipython3",
   "version": "3.7.2"
  }
 },
 "nbformat": 4,
 "nbformat_minor": 2
}