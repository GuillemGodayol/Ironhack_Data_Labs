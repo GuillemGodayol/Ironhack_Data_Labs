{
 "cells": [
  {
   "cell_type": "code",
   "execution_count": 2,
   "metadata": {},
   "outputs": [],
   "source": [
    "import random\n",
    "import re"
   ]
  },
  {
   "cell_type": "markdown",
   "metadata": {},
   "source": [
    "# Defining some functions"
   ]
  },
  {
   "cell_type": "markdown",
   "metadata": {},
   "source": [
    "## Function 'check_def_dices'\n",
    "\n",
    "With this function we check or assign the number of dices that will be used for the defending team. If there is just 1 soldier, the player can just use 1 dice. If theres more than 1 soldier, the player can choose to use 1 or 2 dices. \n",
    "\n",
    "In the function, we first check if there is 1 soldier, to assign just 1 dice. If there are more, then we ask the player to choose how many dices he/she wants to use. Then we check if this input is 1 or 2 and assign it into de variable or ask for a new input if the entered number is not valid."
   ]
  },
  {
   "cell_type": "code",
   "execution_count": 6,
   "metadata": {},
   "outputs": [],
   "source": [
    "# a function to check the number of dices to use by DEFENDING.\n",
    "def check_def_dices(soldiers_number):\n",
    "    asking_question = 'How many DICES do you want to use to DEFEND the new territory?'\n",
    "    limited = 'The number of attacking dices is limited to'\n",
    "    if soldiers_number == 1:\n",
    "        return 1\n",
    "    else:\n",
    "        def_dices = int(input(asking_question))\n",
    "        while def_dices not in range(1,3):\n",
    "            print(limited, '2')\n",
    "            def_dices = int(input(asking_question))\n",
    "        return def_dices\n",
    "\n",
    "### FEEDBACK: con metodo isdigit aplicado a una string comprobamos si un texto es un digito"
   ]
  },
  {
   "cell_type": "markdown",
   "metadata": {},
   "source": [
    "## Function 'check_att_dices'\n",
    "\n",
    "With this function we check or assign the number of dices that will be used for the attacking team. If there is just 1 soldier, the attacking team can not play, so we avoided this case.\n",
    "\n",
    "If there are two players, the player can choose to use 1 or 2 dices. If theres more than 2 soldiers, the player can choose to use 1, 2 or 3 dices.\n",
    "\n",
    "In the function, we first check if there are 2 soldier, to ask the player to choose how many dices he/she wants to use. Then we check if this input is 1 or 2 and assign it into de variable or ask for a new input if the entered number is not valid.\n",
    "If there are more than 2 players, we do the same but considering up to 3 dices are valid."
   ]
  },
  {
   "cell_type": "code",
   "execution_count": 3,
   "metadata": {},
   "outputs": [],
   "source": [
    "# a function to check the number of dices to use by ATTACKING:\n",
    "def check_att_dices(soldiers_number):\n",
    "    asking_question = 'How many DICES do you want to use to ATTACK the new territory?'\n",
    "    limited = 'The number of attacking dices is limited to'\n",
    "    if soldiers_number == 2:\n",
    "        att_dices = int(input(asking_question))\n",
    "        while att_dices not in range(1,3):\n",
    "            print(limited, '2')\n",
    "            att_dices = int(input(asking_question))\n",
    "    else:\n",
    "        att_dices = int(input(asking_question))\n",
    "        while att_dices not in range(1,4):\n",
    "            print(limited, '3')\n",
    "            att_dices = int(input(asking_question))\n",
    "    return att_dices"
   ]
  },
  {
   "cell_type": "markdown",
   "metadata": {},
   "source": [
    "## Function 'roll_dices'\n",
    "\n",
    "For this function we need the number of dices as an input. We will generate a list with the random numbers from 1 to 6 with as many arguments as the numbers of dices we have. \n",
    "\n",
    "It is valid for any team, as we will assign the result in different variables."
   ]
  },
  {
   "cell_type": "code",
   "execution_count": 4,
   "metadata": {},
   "outputs": [],
   "source": [
    "def roll_dices(num_of_dices):\n",
    "    rolls = []\n",
    "    while len(rolls) < num_of_dices:\n",
    "        rolls.append(random.randint(1,6))\n",
    "    return rolls\n",
    "\n",
    "## FEEDBACK: We can use list comprehension!!!"
   ]
  },
  {
   "cell_type": "markdown",
   "metadata": {},
   "source": [
    "## Function 'remove_max'\n",
    "\n",
    "This function will be used to remove the maximum random roll on the roll dices after each 'combat'. That will allow us to get a new maximum of the newly generated list of rolls."
   ]
  },
  {
   "cell_type": "code",
   "execution_count": 5,
   "metadata": {},
   "outputs": [],
   "source": [
    "def remove_max(rolls_list):\n",
    "    try:\n",
    "        rolls_list.remove(max(rolls_list))\n",
    "    except ValueError:\n",
    "        pass\n",
    "    return rolls_list"
   ]
  },
  {
   "cell_type": "markdown",
   "metadata": {},
   "source": [
    "## Function 'comparing_rolls'\n",
    "\n",
    "Using this function we will compare the different rolls until we have compared all, and checking the loses for each team."
   ]
  },
  {
   "cell_type": "code",
   "execution_count": 6,
   "metadata": {},
   "outputs": [],
   "source": [
    "def comparing_rolls(def_rolls, att_rolls):\n",
    "    def_loses = 0\n",
    "    att_loses = 0\n",
    "    while len(def_rolls) > 0 and len(att_rolls) > 0:\n",
    "        if max(att_rolls) > max(def_rolls):\n",
    "            def_loses += 1\n",
    "        else:\n",
    "            att_loses += 1\n",
    "        att_rolls = remove_max(att_rolls)\n",
    "        def_rolls = remove_max(def_rolls)\n",
    "    return (def_loses, att_loses)\n",
    "\n",
    "## FEEDBACK: in return statements, parenthesis are not necessary."
   ]
  },
  {
   "cell_type": "markdown",
   "metadata": {},
   "source": [
    "## Function 'printing_loses'\n",
    "\n",
    "For this function we will need the list with 2 arguments returned by the 'comparing_rolls' function, where the first argument represents the defending loses and the second one the attacking loses.\n",
    "\n",
    "Depending on that number of loses, we will print the text with the number of loses and the word 'soldier' in singular or plurar accordingly."
   ]
  },
  {
   "cell_type": "code",
   "execution_count": 7,
   "metadata": {},
   "outputs": [],
   "source": [
    "def printing_loses(list):\n",
    "    defenders = 'Defenders'\n",
    "    attackers = 'Attackers'\n",
    "    loose_defenders = f'loose {loses[0]}'\n",
    "    loose_attackers = f'loose {loses[1]}'\n",
    "    singular = 'soldier'\n",
    "    plural = 'soldiers'\n",
    "    if list[0] > 1:\n",
    "        print('\\n')\n",
    "        print(defenders, loose_defenders, plural)\n",
    "    elif list[0] == 1:\n",
    "        print('\\n')\n",
    "        print(defenders, loose_defenders, singular)\n",
    "    if list[1] > 1:\n",
    "        print('\\n')\n",
    "        print(attackers, loose_attackers, plural)\n",
    "    elif list[1] == 1:\n",
    "        print('\\n')\n",
    "        print(attackers, loose_attackers, singular)\n",
    "\n",
    "## FEEDBACK: Don't EVER use 'list' as a name for a variable!!!\n",
    "## FEEDBACK: we are not passing a list, but a tuple.\n",
    "## FEEDBACK: If something is in all conditions, it is not a condition. Take out 'print \\n'"
   ]
  },
  {
   "cell_type": "markdown",
   "metadata": {},
   "source": [
    "## Function 'game_over'\n",
    "\n",
    "This function is just to print the 'GAME OVER' text. If defending soldiers became 0, attackers win. If attackers soldiers became 1, defenders win, as there is one soldier needed for attackers to stay in their territory."
   ]
  },
  {
   "cell_type": "code",
   "execution_count": 8,
   "metadata": {},
   "outputs": [],
   "source": [
    "def game_over(defenders, attackers):\n",
    "    if defenders == 0:\n",
    "        print('\\n')\n",
    "        print('\\033[1;30m GAME OVER. The region is conquered, Attackers WIN!')\n",
    "    elif attackers == 1:\n",
    "        print('\\n')\n",
    "        print('\\033[1;34m GAME OVER. The region is save, Defenders WIN!')\n",
    "\n",
    "## FEEDBACK: If something is in all conditions, it is not a condition. Take out 'print \\n'"
   ]
  },
  {
   "cell_type": "markdown",
   "metadata": {},
   "source": [
    "# Here starts the code for the game"
   ]
  },
  {
   "cell_type": "markdown",
   "metadata": {},
   "source": [
    "## Phase 1: Ask for the defending soldiers"
   ]
  },
  {
   "cell_type": "code",
   "execution_count": 9,
   "metadata": {},
   "outputs": [
    {
     "name": "stdout",
     "output_type": "stream",
     "text": [
      "How many soldiers are DEFENDING your territory?3\n"
     ]
    }
   ],
   "source": [
    "# To get a short game, it is limited to 10. We need integers bigger than 0 to play.\n",
    "\n",
    "asking_defenders = \"How many soldiers are DEFENDING your territory?\"\n",
    "def_soldiers = int(input(asking_defenders))\n",
    "\n",
    "while def_soldiers not in range(1,11):\n",
    "    print(\"The number of soldiers must be between 1 and 10\")\n",
    "    def_soldiers = int(input(asking_defenders))"
   ]
  },
  {
   "cell_type": "markdown",
   "metadata": {},
   "source": [
    "## Phase 2: Ask for attacking soldiers"
   ]
  },
  {
   "cell_type": "code",
   "execution_count": 10,
   "metadata": {},
   "outputs": [
    {
     "name": "stdout",
     "output_type": "stream",
     "text": [
      "How many soldiers are ATTACKING your territory?5\n"
     ]
    }
   ],
   "source": [
    "# To get a short game, it is limited to 10. The rules of the game say that the attacking soldiers must be at least 2.\n",
    "\n",
    "asking_attackers = \"How many soldiers are ATTACKING your territory?\"\n",
    "att_soldiers = int(input(asking_attackers))\n",
    "while att_soldiers not in range(2,11):\n",
    "    print(\"The number of soldiers must be between 2 and 10\")\n",
    "    att_soldiers = int(input(asking_attackers))"
   ]
  },
  {
   "cell_type": "markdown",
   "metadata": {},
   "source": [
    "## Phase 3: WAR!"
   ]
  },
  {
   "cell_type": "code",
   "execution_count": 11,
   "metadata": {},
   "outputs": [
    {
     "name": "stdout",
     "output_type": "stream",
     "text": [
      "\n",
      "\n",
      "For the next round, there are 3 DEFENSIVE soldiers and 5 ATTACKING soldiers\n",
      "How many DICES do you want to use to DEFEND the new territory?2\n",
      "How many DICES do you want to use to ATTACK the new territory?3\n",
      "\n",
      "\n",
      "The rolls for defending dices in this round are:  [3, 1]\n",
      "\n",
      "\n",
      "The rolls for attacking dices in this round are:  [2, 4, 5]\n",
      "\n",
      "\n",
      "Defenders loose 2 soldiers\n",
      "\n",
      "\n",
      "Round is finished.\n",
      "\n",
      "\n",
      "For the next round, there are 1 DEFENSIVE soldiers and 5 ATTACKING soldiers\n",
      "How many DICES do you want to use to ATTACK the new territory?3\n",
      "\n",
      "\n",
      "The rolls for defending dices in this round are:  [1]\n",
      "\n",
      "\n",
      "The rolls for attacking dices in this round are:  [4, 3, 5]\n",
      "\n",
      "\n",
      "Defenders loose 1 soldier\n",
      "\n",
      "\n",
      "Round is finished.\n"
     ]
    }
   ],
   "source": [
    "# Here is where the round starts. \n",
    "# There will be a loop until there is a winner.\n",
    "# The loop will be running while either defending soldiers are bigger than 0, as they can still defend their territory\n",
    "# AND the attacking soldiers are bigger than 1, following the game rules.\n",
    "\n",
    "while def_soldiers > 0 and att_soldiers > 1:\n",
    "    print('\\n')\n",
    "    # we start the round with information about the number of soldiers for each team.\n",
    "    print(f'For the next round, there are {def_soldiers} DEFENSIVE soldiers and {att_soldiers} ATTACKING soldiers')\n",
    "    \n",
    "    # the number of dices to throw are set to 0, then the players will choose how many, if they can.\n",
    "    def_dices = 0\n",
    "    att_dices = 0\n",
    "\n",
    "    # check the number of remaining defending soldiers to decide the number of dices.\n",
    "    def_dices = check_def_dices(def_soldiers)\n",
    "            \n",
    "    # check the number of remaining attacking soldiers to decide the number of dices.\n",
    "    att_dices = check_att_dices(att_soldiers)\n",
    "    \n",
    "    # generating random dice rolls\n",
    "    def_rolls = roll_dices(def_dices)\n",
    "    print('\\n')\n",
    "    print('The rolls for defending dices in this round are: ', def_rolls)\n",
    "    \n",
    "    att_rolls = roll_dices(att_dices)\n",
    "    print('\\n')\n",
    "    print('The rolls for attacking dices in this round are: ', att_rolls)\n",
    "    \n",
    "    # comparing rolls\n",
    "    loses = comparing_rolls(def_rolls, att_rolls)\n",
    "    def_soldiers = def_soldiers - loses[0]\n",
    "    att_soldiers = att_soldiers - loses[1]\n",
    "    \n",
    "    # printing loses\n",
    "    printing_loses(loses)\n",
    "    print('\\n')\n",
    "    print('Round is finished.')"
   ]
  },
  {
   "cell_type": "markdown",
   "metadata": {},
   "source": [
    "## Phase 4: Game Over!"
   ]
  },
  {
   "cell_type": "code",
   "execution_count": 12,
   "metadata": {},
   "outputs": [
    {
     "name": "stdout",
     "output_type": "stream",
     "text": [
      "\n",
      "\n",
      "\u001b[1;30m GAME OVER. The region is conquered, Attackers WIN!\n"
     ]
    }
   ],
   "source": [
    "# printing the 'Game Over'\n",
    "game_over(def_soldiers, att_soldiers)"
   ]
  }
 ],
 "metadata": {
  "file_extension": ".py",
  "kernelspec": {
   "display_name": "Python 3",
   "language": "python",
   "name": "python3"
  },
  "language_info": {
   "codemirror_mode": {
    "name": "ipython",
    "version": 3
   },
   "file_extension": ".py",
   "mimetype": "text/x-python",
   "name": "python",
   "nbconvert_exporter": "python",
   "pygments_lexer": "ipython3",
   "version": "3.7.4"
  },
  "mimetype": "text/x-python",
  "name": "python",
  "npconvert_exporter": "python",
  "pygments_lexer": "ipython3",
  "version": 3
 },
 "nbformat": 4,
 "nbformat_minor": 2
}