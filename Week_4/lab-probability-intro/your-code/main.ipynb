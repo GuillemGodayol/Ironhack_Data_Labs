{
 "cells": [
  {
   "cell_type": "markdown",
   "metadata": {},
   "source": [
    "# Introduction To Probability\n",
    "## Challenge 1\n",
    "\n",
    "A and B are events of a probability space with $(\\omega, \\sigma, P)$ such that $P(A) = 0.3$, $P(B) = 0.6$ and $P(A \\cap B) = 0.1$\n",
    "\n",
    "Which of the following statements are false?\n",
    "* $P(A \\cup B) = 0.6$\n",
    "* $P(A \\cap B^{C}) = 0.2$\n",
    "* $P(A \\cap (B \\cup B^{C})) = 0.4$\n",
    "* $P(A^{C} \\cap B^{C}) = 0.3$\n",
    "* $P((A \\cap B)^{C}) = 0.9$"
   ]
  },
  {
   "cell_type": "code",
   "execution_count": null,
   "metadata": {},
   "outputs": [],
   "source": [
    "\"\"\"\n",
    "P(A ∪ B) = 0.6 is false. P(A u B) = P(A) + P(B) - P(A n B) = 0.3 + 0.6 - 0.1 = 0.8\n",
    "P(A n Bc) = 0.2 is false. P(A n Bc) = P(A) * P(Bc) = 0.3 * 0.4 = 0.12\n",
    "P(A n (B u Bc) = 0.4 is false. P(A n (B u Bc) = P(A) * 1 = 0.3\n",
    "P(Ac n Bc) = 0.3 is false. P(Ac n Bc) = P(Ac) * P(Bc) = 0.7 * 0.4 = 0.28\n",
    "P((A n B)c) = 0.9 is false. P((A n B)c) = 1 - P(A n B) = 1 - P(A) * P(B) = 1 - 0.3 * 0.6 = 0.82\n",
    "\"\"\""
   ]
  },
  {
   "cell_type": "markdown",
   "metadata": {},
   "source": [
    "## Challenge 2\n",
    "There is a box with 10 white balls, 12 red balls and 8 black balls. Calculate the probability of:\n",
    "* Taking a white ball out.\n",
    "* Taking a white ball out after taking a black ball out.\n",
    "* Taking a red ball out after taking a black and a red ball out.\n",
    "* Taking a red ball out after taking a black and a red ball out with reposition.\n",
    "\n",
    "**Hint**: Reposition means putting back the ball into the box after taking it out."
   ]
  },
  {
   "cell_type": "code",
   "execution_count": null,
   "metadata": {},
   "outputs": [],
   "source": [
    "\"\"\"\n",
    "Taking a white ball out: 10 / 30 = 30% \n",
    "Taking a white ball out after taking a black ball out: 10 / 29 = 34.5%\n",
    "Taking a red ball out afer taking a black and a red ball out: 11 / 28 = 39.3% \n",
    "Taking a red ball out after taking a black and a red ball out with reposition: 12 / 30 = 40%\n",
    "\"\"\""
   ]
  },
  {
   "cell_type": "markdown",
   "metadata": {},
   "source": [
    "## Challenge 3\n",
    "\n",
    "You are planning to go on a picnic today but the morning is cloudy. You hate rain so you don't know whether to go out or stay home! To help you make a decision, you gather the following data about rainy days:\n",
    "\n",
    "* 50% of all rainy days start off cloudy!\n",
    "* Cloudy mornings are common. About 40% of days start cloudy. \n",
    "* This month is usually dry so only 3 of 30 days (10%) tend to be rainy. \n",
    "\n",
    "What is the chance of rain during the day?"
   ]
  },
  {
   "cell_type": "code",
   "execution_count": null,
   "metadata": {},
   "outputs": [],
   "source": [
    "\"\"\"\n",
    "A = rain. P(A) = 0.1 (10%)\n",
    "B = start cloudy. P(B) = 0.4 (40%)\n",
    "P(B|A) = Probability of started cloudy when rains = 0.5 (50%)\n",
    "\n",
    "P(A|B) = Probability of rain if the day starts cloudy\n",
    "P(A|B) = P(B|A) * P(A) / P(B) = 0.5 * 0.1 / 0.4 = 0.125 = 12,5% \n",
    "\n",
    "There's just a 12,5% of probability for rain given the morning started cloudy. Let's go picnic!\n",
    "\"\"\""
   ]
  },
  {
   "cell_type": "markdown",
   "metadata": {},
   "source": [
    "## Challenge 4\n",
    "\n",
    "One thousand people were asked through a telephone survey whether they thought more street lighting is needed at night or not.\n",
    "\n",
    "Out of the 480 men that answered the survey, 324 said yes and 156 said no. On the other hand, out of the 520 women that answered, 351 said yes and 169 said no. \n",
    "\n",
    "We wonder if men and women have a different opinions about the street lighting matter. Is gender relevant or irrelevant to the question?\n",
    "\n",
    "Consider the following events:\n",
    "- The answer is yes, so the person that answered thinks that more street lighting is needed.\n",
    "- The person who answered is a man.\n",
    "\n",
    "We want to know if these events are independent, that is, if the fact of wanting more light depends on whether one is male or female. Are these events independent or not?\n",
    "\n",
    "**Hint**: To clearly compare the answers by gender, it is best to place the data in a table."
   ]
  },
  {
   "cell_type": "code",
   "execution_count": 1,
   "metadata": {},
   "outputs": [],
   "source": [
    "# your code here\n",
    "import pandas as pd "
   ]
  },
  {
   "cell_type": "code",
   "execution_count": 16,
   "metadata": {},
   "outputs": [],
   "source": [
    "df = pd.DataFrame({'Men':[324, 156, 480], 'Women':[351, 169, 520]})"
   ]
  },
  {
   "cell_type": "code",
   "execution_count": 17,
   "metadata": {},
   "outputs": [],
   "source": [
    "df = df.rename(index={0: 'Yes', 1:'No', 2:'Total'})"
   ]
  },
  {
   "cell_type": "code",
   "execution_count": 18,
   "metadata": {},
   "outputs": [
    {
     "data": {
      "text/html": "<div>\n<style scoped>\n    .dataframe tbody tr th:only-of-type {\n        vertical-align: middle;\n    }\n\n    .dataframe tbody tr th {\n        vertical-align: top;\n    }\n\n    .dataframe thead th {\n        text-align: right;\n    }\n</style>\n<table border=\"1\" class=\"dataframe\">\n  <thead>\n    <tr style=\"text-align: right;\">\n      <th></th>\n      <th>Men</th>\n      <th>Women</th>\n    </tr>\n  </thead>\n  <tbody>\n    <tr>\n      <th>Yes</th>\n      <td>324</td>\n      <td>351</td>\n    </tr>\n    <tr>\n      <th>No</th>\n      <td>156</td>\n      <td>169</td>\n    </tr>\n    <tr>\n      <th>Total</th>\n      <td>480</td>\n      <td>520</td>\n    </tr>\n  </tbody>\n</table>\n</div>",
      "text/plain": "       Men  Women\nYes    324    351\nNo     156    169\nTotal  480    520"
     },
     "execution_count": 18,
     "metadata": {},
     "output_type": "execute_result"
    }
   ],
   "source": [
    "df"
   ]
  },
  {
   "cell_type": "code",
   "execution_count": 19,
   "metadata": {},
   "outputs": [],
   "source": [
    "df['Men_Perc'] = df['Men'] / df.loc['Total','Men']"
   ]
  },
  {
   "cell_type": "code",
   "execution_count": 20,
   "metadata": {},
   "outputs": [],
   "source": [
    "df['Women_Perc'] = df['Women'] / df.loc['Total','Women']"
   ]
  },
  {
   "cell_type": "code",
   "execution_count": 22,
   "metadata": {},
   "outputs": [],
   "source": [
    "df['Total Y/N'] = df['Men'] + df['Women']"
   ]
  },
  {
   "cell_type": "code",
   "execution_count": 23,
   "metadata": {},
   "outputs": [
    {
     "data": {
      "text/html": "<div>\n<style scoped>\n    .dataframe tbody tr th:only-of-type {\n        vertical-align: middle;\n    }\n\n    .dataframe tbody tr th {\n        vertical-align: top;\n    }\n\n    .dataframe thead th {\n        text-align: right;\n    }\n</style>\n<table border=\"1\" class=\"dataframe\">\n  <thead>\n    <tr style=\"text-align: right;\">\n      <th></th>\n      <th>Men</th>\n      <th>Women</th>\n      <th>Men_Perc</th>\n      <th>Women_Perc</th>\n      <th>Total Y/N</th>\n    </tr>\n  </thead>\n  <tbody>\n    <tr>\n      <th>Yes</th>\n      <td>324</td>\n      <td>351</td>\n      <td>0.675</td>\n      <td>0.675</td>\n      <td>675</td>\n    </tr>\n    <tr>\n      <th>No</th>\n      <td>156</td>\n      <td>169</td>\n      <td>0.325</td>\n      <td>0.325</td>\n      <td>325</td>\n    </tr>\n    <tr>\n      <th>Total</th>\n      <td>480</td>\n      <td>520</td>\n      <td>1.000</td>\n      <td>1.000</td>\n      <td>1000</td>\n    </tr>\n  </tbody>\n</table>\n</div>",
      "text/plain": "       Men  Women  Men_Perc  Women_Perc  Total Y/N\nYes    324    351     0.675       0.675        675\nNo     156    169     0.325       0.325        325\nTotal  480    520     1.000       1.000       1000"
     },
     "execution_count": 23,
     "metadata": {},
     "output_type": "execute_result"
    }
   ],
   "source": [
    "df"
   ]
  },
  {
   "cell_type": "code",
   "execution_count": null,
   "metadata": {},
   "outputs": [],
   "source": [
    "\"\"\"\n",
    "The probability of Men answering YES is the same of Women answering YES, so the fact of wanting light doesn't depend on the gender.\n",
    "\"\"\""
   ]
  }
 ],
 "metadata": {
  "kernelspec": {
   "display_name": "Python 3",
   "language": "python",
   "name": "python3"
  },
  "language_info": {
   "codemirror_mode": {
    "name": "ipython",
    "version": 3
   },
   "file_extension": ".py",
   "mimetype": "text/x-python",
   "name": "python",
   "nbconvert_exporter": "python",
   "pygments_lexer": "ipython3",
   "version": "3.7.2"
  }
 },
 "nbformat": 4,
 "nbformat_minor": 2
}